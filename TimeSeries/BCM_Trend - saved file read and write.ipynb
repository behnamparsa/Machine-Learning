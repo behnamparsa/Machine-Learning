{
 "cells": [
  {
   "cell_type": "code",
   "execution_count": 12,
   "metadata": {},
   "outputs": [
    {
     "name": "stdout",
     "output_type": "stream",
     "text": [
      "📁 Total records in file: 1483\n",
      "              ds  Actual_TOT_PAID  Prediction_TOT_PAID  \\\n",
      "1482  2026-11-30              NaN         1.973252e+06   \n",
      "\n",
      "      Prediction_TOT_PAID_lower  Prediction_TOT_PAID_upper    source  \\\n",
      "1482               1.494662e+06               2.453570e+06  Forecast   \n",
      "\n",
      "      Actual_BUDGET_AMT  Forecast_BUDGET_AMT  Actual_NBR_MURDER  \\\n",
      "1482                NaN         2.911891e+06                NaN   \n",
      "\n",
      "      Forecast_NBR_MURDER   model_run_datetime  \n",
      "1482            18.216192  2025-03-23 12:25:31  \n",
      "✅ Filtered 188 rows from the latest model run: 2025-03-23 12:25:31\n",
      "              ds  Actual_TOT_PAID  Prediction_TOT_PAID  \\\n",
      "1478  2026-07-31              NaN         2.250901e+06   \n",
      "1479  2026-08-31              NaN         1.840420e+06   \n",
      "1480  2026-09-30              NaN         1.704102e+06   \n",
      "1481  2026-10-31              NaN         1.844895e+06   \n",
      "1482  2026-11-30              NaN         1.973252e+06   \n",
      "\n",
      "      Prediction_TOT_PAID_lower  Prediction_TOT_PAID_upper    source  \\\n",
      "1478               1.787315e+06               2.702972e+06  Forecast   \n",
      "1479               1.344196e+06               2.291378e+06  Forecast   \n",
      "1480               1.232163e+06               2.180766e+06  Forecast   \n",
      "1481               1.409240e+06               2.312985e+06  Forecast   \n",
      "1482               1.494662e+06               2.453570e+06  Forecast   \n",
      "\n",
      "      Actual_BUDGET_AMT  Forecast_BUDGET_AMT  Actual_NBR_MURDER  \\\n",
      "1478                NaN         2.587956e+06                NaN   \n",
      "1479                NaN         2.616217e+06                NaN   \n",
      "1480                NaN         2.839415e+06                NaN   \n",
      "1481                NaN         2.681987e+06                NaN   \n",
      "1482                NaN         2.911891e+06                NaN   \n",
      "\n",
      "      Forecast_NBR_MURDER  model_run_datetime  \n",
      "1478            14.537971 2025-03-23 12:25:31  \n",
      "1479            15.612647 2025-03-23 12:25:31  \n",
      "1480            18.622423 2025-03-23 12:25:31  \n",
      "1481            18.352583 2025-03-23 12:25:31  \n",
      "1482            18.216192 2025-03-23 12:25:31  \n"
     ]
    }
   ],
   "source": [
    "import pandas as pd\n",
    "\n",
    "# === Step 1: Load the CSV file ===\n",
    "file_path = r\"C:\\GitHub\\Machine-Learning\\data\\Plot_Ready_Forecast_Data.csv\"\n",
    "df = pd.read_csv(file_path, parse_dates=['model_run_datetime'])\n",
    "\n",
    "# 🔹 Print the total number of records in the file\n",
    "print(f\"📁 Total records in file: {len(df)}\")\n",
    "print(df.tail(1))\n",
    "df['model_run_datetime'] = pd.to_datetime(df['model_run_datetime'],format = 'mixed')\n",
    "# === Step 2: Identify the latest model run datetime ===\n",
    "latest_model_run = df['model_run_datetime'].max()\n",
    "\n",
    "# === Step 3: Filter the dataframe based on the latest model run datetime ===\n",
    "latest_df = df[df['model_run_datetime'] == latest_model_run].copy()\n",
    "\n",
    "# === Step 4: Display or work with filtered data ===\n",
    "print(f\"✅ Filtered {len(latest_df)} rows from the latest model run: {latest_model_run}\")\n",
    "\n",
    "print(latest_df.tail())\n"
   ]
  },
  {
   "cell_type": "code",
   "execution_count": null,
   "metadata": {},
   "outputs": [],
   "source": []
  }
 ],
 "metadata": {
  "kernelspec": {
   "display_name": ".venv",
   "language": "python",
   "name": "python3"
  },
  "language_info": {
   "codemirror_mode": {
    "name": "ipython",
    "version": 3
   },
   "file_extension": ".py",
   "mimetype": "text/x-python",
   "name": "python",
   "nbconvert_exporter": "python",
   "pygments_lexer": "ipython3",
   "version": "3.10.10"
  }
 },
 "nbformat": 4,
 "nbformat_minor": 2
}
