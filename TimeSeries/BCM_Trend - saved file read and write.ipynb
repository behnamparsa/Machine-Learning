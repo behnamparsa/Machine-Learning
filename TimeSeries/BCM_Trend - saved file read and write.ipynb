{
 "cells": [
  {
   "cell_type": "code",
   "execution_count": 9,
   "metadata": {},
   "outputs": [
    {
     "name": "stdout",
     "output_type": "stream",
     "text": [
      "📁 Total records in file: 1295\n",
      "              ds  Actual_TOT_PAID  Prediction_TOT_PAID  \\\n",
      "1294  2026-11-30              NaN         1.973252e+06   \n",
      "\n",
      "      Prediction_TOT_PAID_lower  Prediction_TOT_PAID_upper    source  \\\n",
      "1294               1.480509e+06               2.443704e+06  Forecast   \n",
      "\n",
      "      Actual_BUDGET_AMT  Forecast_BUDGET_AMT  Actual_NBR_MURDER  \\\n",
      "1294                NaN         2.911891e+06                NaN   \n",
      "\n",
      "      Forecast_NBR_MURDER   model_run_datetime  \n",
      "1294            18.216192  2025-03-23 12:23:38  \n",
      "✅ Filtered 188 rows from the latest model run: 2025-03-23 12:23:38\n",
      "              ds  Actual_TOT_PAID  Prediction_TOT_PAID  \\\n",
      "1290  2026-07-31              NaN         2.250901e+06   \n",
      "1291  2026-08-31              NaN         1.840420e+06   \n",
      "1292  2026-09-30              NaN         1.704102e+06   \n",
      "1293  2026-10-31              NaN         1.844895e+06   \n",
      "1294  2026-11-30              NaN         1.973252e+06   \n",
      "\n",
      "      Prediction_TOT_PAID_lower  Prediction_TOT_PAID_upper    source  \\\n",
      "1290               1.781100e+06               2.717341e+06  Forecast   \n",
      "1291               1.368425e+06               2.271129e+06  Forecast   \n",
      "1292               1.253605e+06               2.144999e+06  Forecast   \n",
      "1293               1.407482e+06               2.317323e+06  Forecast   \n",
      "1294               1.480509e+06               2.443704e+06  Forecast   \n",
      "\n",
      "      Actual_BUDGET_AMT  Forecast_BUDGET_AMT  Actual_NBR_MURDER  \\\n",
      "1290                NaN         2.587956e+06                NaN   \n",
      "1291                NaN         2.616217e+06                NaN   \n",
      "1292                NaN         2.839415e+06                NaN   \n",
      "1293                NaN         2.681987e+06                NaN   \n",
      "1294                NaN         2.911891e+06                NaN   \n",
      "\n",
      "      Forecast_NBR_MURDER  model_run_datetime  \n",
      "1290            14.537971 2025-03-23 12:23:38  \n",
      "1291            15.612647 2025-03-23 12:23:38  \n",
      "1292            18.622423 2025-03-23 12:23:38  \n",
      "1293            18.352583 2025-03-23 12:23:38  \n",
      "1294            18.216192 2025-03-23 12:23:38  \n"
     ]
    }
   ],
   "source": [
    "import pandas as pd\n",
    "\n",
    "# === Step 1: Load the CSV file ===\n",
    "file_path = r\"C:\\GitHub\\Machine-Learning\\data\\Plot_Ready_Forecast_Data.csv\"\n",
    "df = pd.read_csv(file_path, parse_dates=['model_run_datetime'])\n",
    "\n",
    "# 🔹 Print the total number of records in the file\n",
    "print(f\"📁 Total records in file: {len(df)}\")\n",
    "print(df.tail(1))\n",
    "df['model_run_datetime'] = pd.to_datetime(df['model_run_datetime'],format = 'mixed')\n",
    "# === Step 2: Identify the latest model run datetime ===\n",
    "latest_model_run = df['model_run_datetime'].max()\n",
    "\n",
    "# === Step 3: Filter the dataframe based on the latest model run datetime ===\n",
    "latest_df = df[df['model_run_datetime'] == latest_model_run].copy()\n",
    "\n",
    "# === Step 4: Display or work with filtered data ===\n",
    "print(f\"✅ Filtered {len(latest_df)} rows from the latest model run: {latest_model_run}\")\n",
    "\n",
    "print(latest_df.tail())\n"
   ]
  },
  {
   "cell_type": "code",
   "execution_count": null,
   "metadata": {},
   "outputs": [],
   "source": []
  }
 ],
 "metadata": {
  "kernelspec": {
   "display_name": ".venv",
   "language": "python",
   "name": "python3"
  },
  "language_info": {
   "codemirror_mode": {
    "name": "ipython",
    "version": 3
   },
   "file_extension": ".py",
   "mimetype": "text/x-python",
   "name": "python",
   "nbconvert_exporter": "python",
   "pygments_lexer": "ipython3",
   "version": "3.10.10"
  }
 },
 "nbformat": 4,
 "nbformat_minor": 2
}
