{
 "cells": [
  {
   "cell_type": "code",
   "execution_count": 21,
   "metadata": {},
   "outputs": [
    {
     "name": "stdout",
     "output_type": "stream",
     "text": [
      "✅ Filtered 188 rows from the latest model run: 3/23/2025 12:03\n",
      "            ds  Actual_TOT_PAID  Prediction_TOT_PAID  \\\n",
      "538 2026-07-31              NaN              20962.0   \n",
      "539 2026-08-31              NaN              20962.0   \n",
      "540 2026-09-30              NaN              20962.0   \n",
      "541 2026-10-31              NaN              20962.0   \n",
      "542 2026-11-30              NaN              20962.0   \n",
      "\n",
      "     Prediction_TOT_PAID_lower  Prediction_TOT_PAID_upper    source  \\\n",
      "538                1801738.996                2706665.902  Forecast   \n",
      "539                1390199.111                2293055.612  Forecast   \n",
      "540                1225077.695                2175097.301  Forecast   \n",
      "541                1411791.352                2299606.678  Forecast   \n",
      "542                1503184.339                2424814.980  Forecast   \n",
      "\n",
      "     Actual_BUDGET_AMT  Forecast_BUDGET_AMT  Actual_NBR_MURDER  \\\n",
      "538                NaN          2587955.793                NaN   \n",
      "539                NaN          2616216.588                NaN   \n",
      "540                NaN          2839414.834                NaN   \n",
      "541                NaN          2681987.099                NaN   \n",
      "542                NaN          2911891.194                NaN   \n",
      "\n",
      "     Forecast_NBR_MURDER model_run_datetime  \n",
      "538            14.537971    3/23/2025 12:03  \n",
      "539            15.612647    3/23/2025 12:03  \n",
      "540            18.622423    3/23/2025 12:03  \n",
      "541            18.352583    3/23/2025 12:03  \n",
      "542            18.216192    3/23/2025 12:03  \n"
     ]
    }
   ],
   "source": [
    "import pandas as pd\n",
    "\n",
    "# === Step 1: Load the CSV file ===\n",
    "file_path = r\"C:\\GitHub\\Machine-Learning\\data\\Plot_Ready_Forecast_Data.csv\"\n",
    "df = pd.read_csv(file_path, parse_dates=['ds'])\n",
    "\n",
    "# === Step 2: Identify the latest model run datetime ===\n",
    "latest_model_run = df['model_run_datetime'].max()\n",
    "\n",
    "# === Step 3: Filter the dataframe based on the latest model run datetime ===\n",
    "latest_df = df[df['model_run_datetime'] == latest_model_run].copy()\n",
    "\n",
    "# === Step 4: Display or work with filtered data ===\n",
    "print(f\"✅ Filtered {len(latest_df)} rows from the latest model run: {latest_model_run}\")\n",
    "\n",
    "print(latest_df.tail())\n"
   ]
  },
  {
   "cell_type": "code",
   "execution_count": null,
   "metadata": {},
   "outputs": [],
   "source": []
  }
 ],
 "metadata": {
  "kernelspec": {
   "display_name": ".venv",
   "language": "python",
   "name": "python3"
  },
  "language_info": {
   "codemirror_mode": {
    "name": "ipython",
    "version": 3
   },
   "file_extension": ".py",
   "mimetype": "text/x-python",
   "name": "python",
   "nbconvert_exporter": "python",
   "pygments_lexer": "ipython3",
   "version": "3.10.10"
  }
 },
 "nbformat": 4,
 "nbformat_minor": 2
}
