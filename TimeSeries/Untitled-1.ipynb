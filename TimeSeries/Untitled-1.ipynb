{
 "cells": [
  {
   "cell_type": "code",
   "execution_count": 6,
   "metadata": {},
   "outputs": [
    {
     "name": "stdout",
     "output_type": "stream",
     "text": [
      "DatetimeIndex(['2021-01-31', '2021-02-28', '2021-03-31', '2021-04-30',\n",
      "               '2021-05-31', '2021-06-30', '2021-07-31', '2021-08-31',\n",
      "               '2021-09-30', '2021-10-31'],\n",
      "              dtype='datetime64[ns]', freq='ME')\n",
      "         date  COVID\n",
      "0  2020-04-30   True\n",
      "1  2020-05-31   True\n",
      "2  2020-06-30   True\n",
      "3  2020-07-31   True\n",
      "4  2020-08-31   True\n",
      "5  2020-09-30   True\n",
      "6  2020-10-31   True\n",
      "7  2020-11-30   True\n",
      "8  2020-12-31   True\n",
      "9  2021-01-31   True\n",
      "10 2021-02-28   True\n",
      "11 2021-03-31   True\n"
     ]
    }
   ],
   "source": [
    "import pandas as pd\n",
    "\n",
    "# Generate 10 days starting from January 1, 2021\n",
    "COVID = pd.DataFrame({\n",
    "   'date':pd.date_range(start='2020-04-30',freq='ME', periods=12),\n",
    "   'COVID':True,\n",
    "})\n",
    "date_range = pd.date_range(start='1/1/2021', periods=10, freq='ME')\n",
    "print(date_range)\n",
    "print(COVID)"
   ]
  },
  {
   "cell_type": "code",
   "execution_count": null,
   "metadata": {},
   "outputs": [],
   "source": []
  }
 ],
 "metadata": {
  "kernelspec": {
   "display_name": ".venv",
   "language": "python",
   "name": "python3"
  },
  "language_info": {
   "codemirror_mode": {
    "name": "ipython",
    "version": 3
   },
   "file_extension": ".py",
   "mimetype": "text/x-python",
   "name": "python",
   "nbconvert_exporter": "python",
   "pygments_lexer": "ipython3",
   "version": "3.13.1"
  }
 },
 "nbformat": 4,
 "nbformat_minor": 2
}
