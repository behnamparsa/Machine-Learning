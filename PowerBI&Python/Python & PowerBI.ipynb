{
 "cells": [
  {
   "cell_type": "code",
   "execution_count": 4,
   "metadata": {},
   "outputs": [],
   "source": [
    "#import packages\n",
    "import pandas as pd"
   ]
  },
  {
   "cell_type": "code",
   "execution_count": 3,
   "metadata": {},
   "outputs": [
    {
     "data": {
      "text/html": [
       "<div>\n",
       "<style scoped>\n",
       "    .dataframe tbody tr th:only-of-type {\n",
       "        vertical-align: middle;\n",
       "    }\n",
       "\n",
       "    .dataframe tbody tr th {\n",
       "        vertical-align: top;\n",
       "    }\n",
       "\n",
       "    .dataframe thead th {\n",
       "        text-align: right;\n",
       "    }\n",
       "</style>\n",
       "<table border=\"1\" class=\"dataframe\">\n",
       "  <thead>\n",
       "    <tr style=\"text-align: right;\">\n",
       "      <th></th>\n",
       "      <th>Year</th>\n",
       "      <th>Month</th>\n",
       "      <th>Time</th>\n",
       "      <th>Quarter</th>\n",
       "      <th>Day of Week</th>\n",
       "      <th>DW Abb</th>\n",
       "      <th>DW AM_PM</th>\n",
       "    </tr>\n",
       "    <tr>\n",
       "      <th>Date</th>\n",
       "      <th></th>\n",
       "      <th></th>\n",
       "      <th></th>\n",
       "      <th></th>\n",
       "      <th></th>\n",
       "      <th></th>\n",
       "      <th></th>\n",
       "    </tr>\n",
       "  </thead>\n",
       "  <tbody>\n",
       "    <tr>\n",
       "      <th>2020-01-01 00:00:00-05:00</th>\n",
       "      <td>2020</td>\n",
       "      <td>1</td>\n",
       "      <td>00:00:00</td>\n",
       "      <td>1</td>\n",
       "      <td>2</td>\n",
       "      <td>Wed</td>\n",
       "      <td>AM</td>\n",
       "    </tr>\n",
       "    <tr>\n",
       "      <th>2020-01-01 01:00:00-05:00</th>\n",
       "      <td>2020</td>\n",
       "      <td>1</td>\n",
       "      <td>01:00:00</td>\n",
       "      <td>1</td>\n",
       "      <td>2</td>\n",
       "      <td>Wed</td>\n",
       "      <td>AM</td>\n",
       "    </tr>\n",
       "    <tr>\n",
       "      <th>2020-01-01 02:00:00-05:00</th>\n",
       "      <td>2020</td>\n",
       "      <td>1</td>\n",
       "      <td>02:00:00</td>\n",
       "      <td>1</td>\n",
       "      <td>2</td>\n",
       "      <td>Wed</td>\n",
       "      <td>AM</td>\n",
       "    </tr>\n",
       "    <tr>\n",
       "      <th>2020-01-01 03:00:00-05:00</th>\n",
       "      <td>2020</td>\n",
       "      <td>1</td>\n",
       "      <td>03:00:00</td>\n",
       "      <td>1</td>\n",
       "      <td>2</td>\n",
       "      <td>Wed</td>\n",
       "      <td>AM</td>\n",
       "    </tr>\n",
       "    <tr>\n",
       "      <th>2020-01-01 04:00:00-05:00</th>\n",
       "      <td>2020</td>\n",
       "      <td>1</td>\n",
       "      <td>04:00:00</td>\n",
       "      <td>1</td>\n",
       "      <td>2</td>\n",
       "      <td>Wed</td>\n",
       "      <td>AM</td>\n",
       "    </tr>\n",
       "    <tr>\n",
       "      <th>...</th>\n",
       "      <td>...</td>\n",
       "      <td>...</td>\n",
       "      <td>...</td>\n",
       "      <td>...</td>\n",
       "      <td>...</td>\n",
       "      <td>...</td>\n",
       "      <td>...</td>\n",
       "    </tr>\n",
       "    <tr>\n",
       "      <th>2021-12-31 20:00:00-05:00</th>\n",
       "      <td>2021</td>\n",
       "      <td>12</td>\n",
       "      <td>20:00:00</td>\n",
       "      <td>4</td>\n",
       "      <td>4</td>\n",
       "      <td>Fri</td>\n",
       "      <td>PM</td>\n",
       "    </tr>\n",
       "    <tr>\n",
       "      <th>2021-12-31 21:00:00-05:00</th>\n",
       "      <td>2021</td>\n",
       "      <td>12</td>\n",
       "      <td>21:00:00</td>\n",
       "      <td>4</td>\n",
       "      <td>4</td>\n",
       "      <td>Fri</td>\n",
       "      <td>PM</td>\n",
       "    </tr>\n",
       "    <tr>\n",
       "      <th>2021-12-31 22:00:00-05:00</th>\n",
       "      <td>2021</td>\n",
       "      <td>12</td>\n",
       "      <td>22:00:00</td>\n",
       "      <td>4</td>\n",
       "      <td>4</td>\n",
       "      <td>Fri</td>\n",
       "      <td>PM</td>\n",
       "    </tr>\n",
       "    <tr>\n",
       "      <th>2021-12-31 23:00:00-05:00</th>\n",
       "      <td>2021</td>\n",
       "      <td>12</td>\n",
       "      <td>23:00:00</td>\n",
       "      <td>4</td>\n",
       "      <td>4</td>\n",
       "      <td>Fri</td>\n",
       "      <td>PM</td>\n",
       "    </tr>\n",
       "    <tr>\n",
       "      <th>2022-01-01 00:00:00-05:00</th>\n",
       "      <td>2022</td>\n",
       "      <td>1</td>\n",
       "      <td>00:00:00</td>\n",
       "      <td>1</td>\n",
       "      <td>5</td>\n",
       "      <td>Sat</td>\n",
       "      <td>AM</td>\n",
       "    </tr>\n",
       "  </tbody>\n",
       "</table>\n",
       "<p>17545 rows × 7 columns</p>\n",
       "</div>"
      ],
      "text/plain": [
       "                           Year  Month      Time  Quarter  Day of Week DW Abb  \\\n",
       "Date                                                                            \n",
       "2020-01-01 00:00:00-05:00  2020      1  00:00:00        1            2    Wed   \n",
       "2020-01-01 01:00:00-05:00  2020      1  01:00:00        1            2    Wed   \n",
       "2020-01-01 02:00:00-05:00  2020      1  02:00:00        1            2    Wed   \n",
       "2020-01-01 03:00:00-05:00  2020      1  03:00:00        1            2    Wed   \n",
       "2020-01-01 04:00:00-05:00  2020      1  04:00:00        1            2    Wed   \n",
       "...                         ...    ...       ...      ...          ...    ...   \n",
       "2021-12-31 20:00:00-05:00  2021     12  20:00:00        4            4    Fri   \n",
       "2021-12-31 21:00:00-05:00  2021     12  21:00:00        4            4    Fri   \n",
       "2021-12-31 22:00:00-05:00  2021     12  22:00:00        4            4    Fri   \n",
       "2021-12-31 23:00:00-05:00  2021     12  23:00:00        4            4    Fri   \n",
       "2022-01-01 00:00:00-05:00  2022      1  00:00:00        1            5    Sat   \n",
       "\n",
       "                          DW AM_PM  \n",
       "Date                                \n",
       "2020-01-01 00:00:00-05:00       AM  \n",
       "2020-01-01 01:00:00-05:00       AM  \n",
       "2020-01-01 02:00:00-05:00       AM  \n",
       "2020-01-01 03:00:00-05:00       AM  \n",
       "2020-01-01 04:00:00-05:00       AM  \n",
       "...                            ...  \n",
       "2021-12-31 20:00:00-05:00       PM  \n",
       "2021-12-31 21:00:00-05:00       PM  \n",
       "2021-12-31 22:00:00-05:00       PM  \n",
       "2021-12-31 23:00:00-05:00       PM  \n",
       "2022-01-01 00:00:00-05:00       AM  \n",
       "\n",
       "[17545 rows x 7 columns]"
      ]
     },
     "execution_count": 3,
     "metadata": {},
     "output_type": "execute_result"
    }
   ],
   "source": [
    "start = '1/1/2020'\n",
    "end = '1/1/2022'\n",
    "date_table = pd.DataFrame(pd.date_range(start=start,end=end,tz='EST',freq='h'),columns=['Date'])\n",
    "date_table['Year'] = date_table['Date'].dt.year\n",
    "date_table['Month'] = date_table['Date'].dt.month\n",
    "date_table['Time'] = date_table['Date'].dt.time\n",
    "date_table['Quarter'] = date_table['Date'].dt.quarter\n",
    "date_table['Day of Week'] = date_table['Date'].dt.dayofweek\n",
    "date_table['DW Abb'] = date_table['Date'].dt.strftime('%a')\n",
    "date_table['DW AM_PM'] = date_table['Date'].dt.strftime('%p')\n",
    "date_table.set_index('Date',inplace=True)\n",
    "date_table.to_csv('Date_Table.csv')\n",
    "date_table"
   ]
  },
  {
   "cell_type": "code",
   "execution_count": 29,
   "metadata": {},
   "outputs": [
    {
     "data": {
      "text/plain": [
       "'c:\\\\GitHub\\\\Machine-Learning\\\\PowerBI&Python'"
      ]
     },
     "execution_count": 29,
     "metadata": {},
     "output_type": "execute_result"
    }
   ],
   "source": [
    "pwd"
   ]
  },
  {
   "cell_type": "code",
   "execution_count": 15,
   "metadata": {},
   "outputs": [
    {
     "name": "stdout",
     "output_type": "stream",
     "text": [
      "<class 'pandas.core.frame.DataFrame'>\n",
      "RangeIndex: 732 entries, 0 to 731\n",
      "Data columns (total 1 columns):\n",
      " #   Column  Non-Null Count  Dtype         \n",
      "---  ------  --------------  -----         \n",
      " 0   Date    732 non-null    datetime64[ns]\n",
      "dtypes: datetime64[ns](1)\n",
      "memory usage: 5.8 KB\n"
     ]
    }
   ],
   "source": [
    "date_table.info()"
   ]
  },
  {
   "cell_type": "code",
   "execution_count": null,
   "metadata": {},
   "outputs": [],
   "source": []
  },
  {
   "cell_type": "code",
   "execution_count": 24,
   "metadata": {},
   "outputs": [
    {
     "data": {
      "text/plain": [
       "0        Wed\n",
       "1        Wed\n",
       "2        Wed\n",
       "3        Wed\n",
       "4        Wed\n",
       "        ... \n",
       "17540    Fri\n",
       "17541    Fri\n",
       "17542    Fri\n",
       "17543    Fri\n",
       "17544    Sat\n",
       "Name: Date, Length: 17545, dtype: object"
      ]
     },
     "execution_count": 24,
     "metadata": {},
     "output_type": "execute_result"
    }
   ],
   "source": [
    "date_table['Date'].dt.strftime('%a')"
   ]
  },
  {
   "cell_type": "code",
   "execution_count": null,
   "metadata": {},
   "outputs": [],
   "source": []
  }
 ],
 "metadata": {
  "kernelspec": {
   "display_name": ".venv",
   "language": "python",
   "name": "python3"
  },
  "language_info": {
   "codemirror_mode": {
    "name": "ipython",
    "version": 3
   },
   "file_extension": ".py",
   "mimetype": "text/x-python",
   "name": "python",
   "nbconvert_exporter": "python",
   "pygments_lexer": "ipython3",
   "version": "3.10.10"
  }
 },
 "nbformat": 4,
 "nbformat_minor": 2
}
