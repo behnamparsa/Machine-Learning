{
 "cells": [
  {
   "cell_type": "markdown",
   "id": "8a20cbd5",
   "metadata": {},
   "source": [
    "# Assignment 4"
   ]
  },
  {
   "cell_type": "markdown",
   "id": "34c34819",
   "metadata": {},
   "source": [
    "### GOAL\n",
    "After Assignment 4, you should understand and be able to apply the following functions (in addition to the ones from previous assignments):\n",
    "- https://pandas.pydata.org/docs/reference/api/pandas.Series.prod.html\n",
    "- https://scikit-learn.org/stable/modules/generated/sklearn.naive_bayes.BernoulliNB.html\n",
    "- https://pandas.pydata.org/docs/reference/api/pandas.Series.unique.html"
   ]
  },
  {
   "cell_type": "markdown",
   "id": "9e6a496a",
   "metadata": {},
   "source": [
    "## Exercises "
   ]
  },
  {
   "cell_type": "markdown",
   "id": "98abae23",
   "metadata": {},
   "source": [
    "***Ex1.*** Load a dataframe named 'info' from the following dictionary. The target variable is the column 'age', i.e., we try to predict the age based on some personal information.\n",
    "\n",
    "```python\n",
    "info = [\n",
    "    {'has_children':False, 'has_car':False,  'has_pet':True, 'age':'0-25yo'},\n",
    "    {'has_children':False, 'has_car':False,  'has_pet':False,  'age':'0-25yo'},\n",
    "    {'has_children':False, 'has_car':False,  'has_pet':True,   'age':'0-25yo'},\n",
    "    {'has_children':False, 'has_car':True,   'has_pet':False,  'age':'0-25yo'},\n",
    "    {'has_children':False, 'has_car':False,  'has_pet':True,   'age':'0-25yo'},\n",
    "    {'has_children':False, 'has_car':False,  'has_pet':False,   'age':'0-25yo'},\n",
    "    {'has_children':False, 'has_car':False,  'has_pet':True,  'age':'0-25yo'},\n",
    "    {'has_children':True,  'has_car':False,  'has_pet':False,   'age':'0-25yo'},\n",
    "\n",
    "    {'has_children':True,  'has_car':True,  'has_pet':True,  'age':'25-50yo'},\n",
    "    {'has_children':False, 'has_car':True,  'has_pet':False,   'age':'25-50yo'},\n",
    "    {'has_children':True,  'has_car':True,  'has_pet':True,  'age':'25-50yo'},\n",
    "    {'has_children':False, 'has_car':False, 'has_pet':False,   'age':'25-50yo'},\n",
    "    {'has_children':True,  'has_car':True,  'has_pet':True, 'age':'25-50yo'},\n",
    "    {'has_children':False, 'has_car':True, 'has_pet':False,   'age':'25-50yo'},\n",
    "    {'has_children':True,  'has_car':True,  'has_pet':True, 'age':'25-50yo'},\n",
    "    {'has_children':False, 'has_car':True, 'has_pet':False,  'age':'25-50yo'},\n",
    "    \n",
    "    {'has_children':True,  'has_car':False, 'has_pet':True, 'age':'50+'},\n",
    "    {'has_children':True,  'has_car':False,  'has_pet':False, 'age':'50+'},\n",
    "    {'has_children':True,  'has_car':True,  'has_pet':True, 'age':'50+'},\n",
    "    {'has_children':False, 'has_car':False, 'has_pet':False,  'age':'50+'},\n",
    "]\n",
    "```\n",
    "\n"
   ]
  },
  {
   "cell_type": "code",
   "execution_count": 1,
   "id": "8532b974",
   "metadata": {
    "scrolled": false
   },
   "outputs": [],
   "source": [
    "import pandas as pd\n",
    "info = [\n",
    "    {'has_children':False, 'has_car':False,  'has_pet':True, 'age':'0-25yo'},\n",
    "    {'has_children':False, 'has_car':False,  'has_pet':False,  'age':'0-25yo'},\n",
    "    {'has_children':False, 'has_car':False,  'has_pet':True,   'age':'0-25yo'},\n",
    "    {'has_children':False, 'has_car':True,   'has_pet':False,  'age':'0-25yo'},\n",
    "    {'has_children':False, 'has_car':False,  'has_pet':True,   'age':'0-25yo'},\n",
    "    {'has_children':False, 'has_car':False,  'has_pet':False,   'age':'0-25yo'},\n",
    "    {'has_children':False, 'has_car':False,  'has_pet':True,  'age':'0-25yo'},\n",
    "    {'has_children':True,  'has_car':False,  'has_pet':False,   'age':'0-25yo'},\n",
    "\n",
    "    {'has_children':True,  'has_car':True,  'has_pet':True,  'age':'25-50yo'},\n",
    "    {'has_children':False, 'has_car':True,  'has_pet':False,   'age':'25-50yo'},\n",
    "    {'has_children':True,  'has_car':True,  'has_pet':True,  'age':'25-50yo'},\n",
    "    {'has_children':False, 'has_car':False, 'has_pet':False,   'age':'25-50yo'},\n",
    "    {'has_children':True,  'has_car':True,  'has_pet':True, 'age':'25-50yo'},\n",
    "    {'has_children':False, 'has_car':True, 'has_pet':False,   'age':'25-50yo'},\n",
    "    {'has_children':True,  'has_car':True,  'has_pet':True, 'age':'25-50yo'},\n",
    "    {'has_children':False, 'has_car':True, 'has_pet':False,  'age':'25-50yo'},\n",
    "\n",
    "    {'has_children':True,  'has_car':False, 'has_pet':True, 'age':'50+'},\n",
    "    {'has_children':True,  'has_car':False,  'has_pet':False, 'age':'50+'},\n",
    "    {'has_children':True,  'has_car':True,  'has_pet':True, 'age':'50+'},\n",
    "    {'has_children':False, 'has_car':False, 'has_pet':False,  'age':'50+'},\n",
    "]\n",
    "info = pd.DataFrame(info)"
   ]
  },
  {
   "cell_type": "markdown",
   "id": "30af9c3a",
   "metadata": {},
   "source": [
    "***Ex2.*** Create a function 'prior_target' (use structure below). The function should return the prior (=probability) of the value. For instance, prior_target(info, 'age','25-50yo') returns the probability of the age being 25-50yo.\n",
    "\n",
    "```python\n",
    "def prior(df, col, value):\n",
    "    return ...\n",
    "\n",
    "prior(info, 'age','25-50yo')\n",
    "```"
   ]
  },
  {
   "cell_type": "code",
   "execution_count": 2,
   "id": "d6511cf6",
   "metadata": {},
   "outputs": [
    {
     "data": {
      "text/plain": [
       "np.float64(0.4)"
      ]
     },
     "execution_count": 2,
     "metadata": {},
     "output_type": "execute_result"
    }
   ],
   "source": [
    "def prior(df, col, value):\n",
    "    return (df[col] == value).mean()\n",
    "\n",
    "prior(info, 'age','25-50yo')"
   ]
  },
  {
   "cell_type": "markdown",
   "id": "3513e703",
   "metadata": {},
   "source": [
    "***Ex3.*** Create a function 'cond_probability' (use structure below). The function should return the value's prior (=probability) when the filter_col is equal to filter_val. For instance, cond_probability(info, 'age', '25-50yo', 'has_car',True) returns the probability of having a car for people that are between 25 and 50 yo. \n",
    "```python\n",
    "def cond_probability(df, filter_col, filter_val, col, value):\n",
    "    return ...\n",
    "\n",
    "cond_probability(info, 'age', '25-50yo', 'has_car',True)\n",
    "```"
   ]
  },
  {
   "cell_type": "code",
   "execution_count": 3,
   "id": "4d38b4f7",
   "metadata": {},
   "outputs": [
    {
     "data": {
      "text/plain": [
       "np.float64(0.875)"
      ]
     },
     "execution_count": 3,
     "metadata": {},
     "output_type": "execute_result"
    }
   ],
   "source": [
    "def cond_probability(df, filter_col, filter_val, col, value):\n",
    "    return prior(df[df[filter_col]==filter_val], col, value)\n",
    "\n",
    "cond_probability(info, 'age', '25-50yo', 'has_car',True)"
   ]
  },
  {
   "cell_type": "markdown",
   "id": "923d5e33",
   "metadata": {},
   "source": [
    "***Ex4.*** Given \"obs\" (see below), calculate the probability of the target variable 'age' to be '50+'. Hint: loop and store two lists: (1) the conditional probabilities and (2) the prior for each feature. Then, calculate the product of these two lists and apply the formula: $p(c_i|w) = \\frac{p(w|c_i)p(c_i)}{p(w)}$\n",
    "\n",
    "```python\n",
    "obs = {'has_children':False, 'has_car':True, 'has_pet':True}\n",
    "```"
   ]
  },
  {
   "cell_type": "code",
   "execution_count": 4,
   "id": "0b319387",
   "metadata": {},
   "outputs": [
    {
     "name": "stdout",
     "output_type": "stream",
     "text": [
      "has_children False\n",
      "has_car True\n",
      "has_pet True\n",
      "0.046296296296296294\n"
     ]
    }
   ],
   "source": [
    "obs = {'has_children':False, 'has_car':True, 'has_pet':True}\n",
    "target_val = '50+'\n",
    "condProbs = []\n",
    "priorFeatures = []\n",
    "for k, v in obs.items():\n",
    "    print (k , v)\n",
    "    condProbs.append(cond_probability(info, 'age', target_val, k, v))\n",
    "    priorFeatures.append(prior(info, k, v))\n",
    "print ((pd.Series(condProbs).prod() * prior(info, 'age', target_val)) / pd.Series(priorFeatures).prod())"
   ]
  },
  {
   "cell_type": "markdown",
   "id": "e028e630",
   "metadata": {},
   "source": [
    "***Ex5.*** Do the same as above but now loop through each class and return the one with the highest probability. That's it; you implemented Naive Bayes 🏆"
   ]
  },
  {
   "cell_type": "code",
   "execution_count": 5,
   "id": "808b7137",
   "metadata": {
    "scrolled": true
   },
   "outputs": [
    {
     "name": "stdout",
     "output_type": "stream",
     "text": [
      "predicted Class: 25-50yo\n"
     ]
    },
    {
     "data": {
      "text/plain": [
       "1"
      ]
     },
     "execution_count": 5,
     "metadata": {},
     "output_type": "execute_result"
    }
   ],
   "source": [
    "results = []\n",
    "for target_val in info['age'].unique():\n",
    "    condProbs = []\n",
    "    priorFeatures = []\n",
    "    for k, v in obs.items():\n",
    "        condProbs.append(cond_probability(info, 'age', target_val, k, v))\n",
    "        priorFeatures.append(prior(info, k, v))\n",
    "    results.append({'prob':(pd.Series(condProbs).prod() * prior(info, 'age', target_val)) / pd.Series(priorFeatures).prod(), 'class':target_val})\n",
    "\n",
    "    \n",
    "print ('predicted Class:', pd.DataFrame(results).set_index('class')['prob'].idxmax())\n",
    "pd.DataFrame(results)['prob'].idxmax()"
   ]
  },
  {
   "cell_type": "code",
   "execution_count": 6,
   "id": "d2c6bbb7",
   "metadata": {},
   "outputs": [
    {
     "ename": "NameError",
     "evalue": "name 'test' is not defined",
     "output_type": "error",
     "traceback": [
      "\u001b[1;31m---------------------------------------------------------------------------\u001b[0m",
      "\u001b[1;31mNameError\u001b[0m                                 Traceback (most recent call last)",
      "Cell \u001b[1;32mIn[6], line 1\u001b[0m\n\u001b[1;32m----> 1\u001b[0m \u001b[43mtest\u001b[49m\u001b[38;5;241m.\u001b[39mloc[test[\u001b[38;5;124m'\u001b[39m\u001b[38;5;124mprob\u001b[39m\u001b[38;5;124m'\u001b[39m]\u001b[38;5;241m.\u001b[39midxmax(),\u001b[38;5;124m'\u001b[39m\u001b[38;5;124mclass\u001b[39m\u001b[38;5;124m'\u001b[39m]\n",
      "\u001b[1;31mNameError\u001b[0m: name 'test' is not defined"
     ]
    }
   ],
   "source": [
    "test.loc[test['prob'].idxmax(),'class']"
   ]
  },
  {
   "cell_type": "code",
   "execution_count": 38,
   "id": "726af3dc",
   "metadata": {},
   "outputs": [
    {
     "data": {
      "text/plain": [
       "array(['0-25yo', '25-50yo', '50+'], dtype=object)"
      ]
     },
     "execution_count": 38,
     "metadata": {},
     "output_type": "execute_result"
    }
   ],
   "source": [
    "info['age'].unique()"
   ]
  },
  {
   "cell_type": "markdown",
   "id": "597125a6",
   "metadata": {},
   "source": [
    "***Ex6.*** Use BernoulliNB from scikit to predict the class of obs (see: https://scikit-learn.org/stable/modules/generated/sklearn.naive_bayes.BernoulliNB.html). Note1: there are several implementations of NaiveBayes in scikit. Because our features are binary, BernoulliNB is the best approach. Note2: make sure to present the features correctly, i.e., in the order used to train the model."
   ]
  },
  {
   "cell_type": "code",
   "execution_count": 47,
   "id": "ecc0f962",
   "metadata": {},
   "outputs": [
    {
     "data": {
      "text/html": [
       "<div>\n",
       "<style scoped>\n",
       "    .dataframe tbody tr th:only-of-type {\n",
       "        vertical-align: middle;\n",
       "    }\n",
       "\n",
       "    .dataframe tbody tr th {\n",
       "        vertical-align: top;\n",
       "    }\n",
       "\n",
       "    .dataframe thead th {\n",
       "        text-align: right;\n",
       "    }\n",
       "</style>\n",
       "<table border=\"1\" class=\"dataframe\">\n",
       "  <thead>\n",
       "    <tr style=\"text-align: right;\">\n",
       "      <th></th>\n",
       "      <th>has_children</th>\n",
       "      <th>has_car</th>\n",
       "      <th>has_pet</th>\n",
       "    </tr>\n",
       "  </thead>\n",
       "  <tbody>\n",
       "    <tr>\n",
       "      <th>0</th>\n",
       "      <td>False</td>\n",
       "      <td>True</td>\n",
       "      <td>True</td>\n",
       "    </tr>\n",
       "  </tbody>\n",
       "</table>\n",
       "</div>"
      ],
      "text/plain": [
       "   has_children  has_car  has_pet\n",
       "0         False     True     True"
      ]
     },
     "execution_count": 47,
     "metadata": {},
     "output_type": "execute_result"
    }
   ],
   "source": [
    "pd.DataFrame([obs])"
   ]
  },
  {
   "cell_type": "code",
   "execution_count": 49,
   "id": "36b62349",
   "metadata": {},
   "outputs": [
    {
     "data": {
      "text/plain": [
       "array(['25-50yo'], dtype='<U7')"
      ]
     },
     "execution_count": 49,
     "metadata": {},
     "output_type": "execute_result"
    }
   ],
   "source": [
    "from sklearn.naive_bayes import BernoulliNB\n",
    "model = BernoulliNB()\n",
    "obs_df = pd.DataFrame([obs])[['has_children','has_car','has_pet']]\n",
    "model.fit(info.drop(['age'],axis=1), info['age'])\n",
    "pred = model.predict(obs_df)\n",
    "pred\n"
   ]
  },
  {
   "cell_type": "code",
   "execution_count": 48,
   "id": "35da96d7",
   "metadata": {},
   "outputs": [
    {
     "data": {
      "text/plain": [
       "Index(['has_children', 'has_car', 'has_pet'], dtype='object')"
      ]
     },
     "execution_count": 48,
     "metadata": {},
     "output_type": "execute_result"
    }
   ],
   "source": [
    "info.drop('age', axis=1).columns"
   ]
  },
  {
   "cell_type": "code",
   "execution_count": 40,
   "id": "b67afd2e",
   "metadata": {},
   "outputs": [
    {
     "data": {
      "text/html": [
       "<div>\n",
       "<style scoped>\n",
       "    .dataframe tbody tr th:only-of-type {\n",
       "        vertical-align: middle;\n",
       "    }\n",
       "\n",
       "    .dataframe tbody tr th {\n",
       "        vertical-align: top;\n",
       "    }\n",
       "\n",
       "    .dataframe thead th {\n",
       "        text-align: right;\n",
       "    }\n",
       "</style>\n",
       "<table border=\"1\" class=\"dataframe\">\n",
       "  <thead>\n",
       "    <tr style=\"text-align: right;\">\n",
       "      <th></th>\n",
       "      <th>has_children</th>\n",
       "      <th>has_car</th>\n",
       "      <th>has_pet</th>\n",
       "    </tr>\n",
       "  </thead>\n",
       "  <tbody>\n",
       "    <tr>\n",
       "      <th>0</th>\n",
       "      <td>False</td>\n",
       "      <td>False</td>\n",
       "      <td>True</td>\n",
       "    </tr>\n",
       "    <tr>\n",
       "      <th>1</th>\n",
       "      <td>False</td>\n",
       "      <td>False</td>\n",
       "      <td>False</td>\n",
       "    </tr>\n",
       "    <tr>\n",
       "      <th>2</th>\n",
       "      <td>False</td>\n",
       "      <td>False</td>\n",
       "      <td>True</td>\n",
       "    </tr>\n",
       "    <tr>\n",
       "      <th>3</th>\n",
       "      <td>False</td>\n",
       "      <td>True</td>\n",
       "      <td>False</td>\n",
       "    </tr>\n",
       "    <tr>\n",
       "      <th>4</th>\n",
       "      <td>False</td>\n",
       "      <td>False</td>\n",
       "      <td>True</td>\n",
       "    </tr>\n",
       "    <tr>\n",
       "      <th>5</th>\n",
       "      <td>False</td>\n",
       "      <td>False</td>\n",
       "      <td>False</td>\n",
       "    </tr>\n",
       "    <tr>\n",
       "      <th>6</th>\n",
       "      <td>False</td>\n",
       "      <td>False</td>\n",
       "      <td>True</td>\n",
       "    </tr>\n",
       "    <tr>\n",
       "      <th>7</th>\n",
       "      <td>True</td>\n",
       "      <td>False</td>\n",
       "      <td>False</td>\n",
       "    </tr>\n",
       "    <tr>\n",
       "      <th>8</th>\n",
       "      <td>True</td>\n",
       "      <td>True</td>\n",
       "      <td>True</td>\n",
       "    </tr>\n",
       "    <tr>\n",
       "      <th>9</th>\n",
       "      <td>False</td>\n",
       "      <td>True</td>\n",
       "      <td>False</td>\n",
       "    </tr>\n",
       "    <tr>\n",
       "      <th>10</th>\n",
       "      <td>True</td>\n",
       "      <td>True</td>\n",
       "      <td>True</td>\n",
       "    </tr>\n",
       "    <tr>\n",
       "      <th>11</th>\n",
       "      <td>False</td>\n",
       "      <td>False</td>\n",
       "      <td>False</td>\n",
       "    </tr>\n",
       "    <tr>\n",
       "      <th>12</th>\n",
       "      <td>True</td>\n",
       "      <td>True</td>\n",
       "      <td>True</td>\n",
       "    </tr>\n",
       "    <tr>\n",
       "      <th>13</th>\n",
       "      <td>False</td>\n",
       "      <td>True</td>\n",
       "      <td>False</td>\n",
       "    </tr>\n",
       "    <tr>\n",
       "      <th>14</th>\n",
       "      <td>True</td>\n",
       "      <td>True</td>\n",
       "      <td>True</td>\n",
       "    </tr>\n",
       "    <tr>\n",
       "      <th>15</th>\n",
       "      <td>False</td>\n",
       "      <td>True</td>\n",
       "      <td>False</td>\n",
       "    </tr>\n",
       "    <tr>\n",
       "      <th>16</th>\n",
       "      <td>True</td>\n",
       "      <td>False</td>\n",
       "      <td>True</td>\n",
       "    </tr>\n",
       "    <tr>\n",
       "      <th>17</th>\n",
       "      <td>True</td>\n",
       "      <td>False</td>\n",
       "      <td>False</td>\n",
       "    </tr>\n",
       "    <tr>\n",
       "      <th>18</th>\n",
       "      <td>True</td>\n",
       "      <td>True</td>\n",
       "      <td>True</td>\n",
       "    </tr>\n",
       "    <tr>\n",
       "      <th>19</th>\n",
       "      <td>False</td>\n",
       "      <td>False</td>\n",
       "      <td>False</td>\n",
       "    </tr>\n",
       "  </tbody>\n",
       "</table>\n",
       "</div>"
      ],
      "text/plain": [
       "    has_children  has_car  has_pet\n",
       "0          False    False     True\n",
       "1          False    False    False\n",
       "2          False    False     True\n",
       "3          False     True    False\n",
       "4          False    False     True\n",
       "5          False    False    False\n",
       "6          False    False     True\n",
       "7           True    False    False\n",
       "8           True     True     True\n",
       "9          False     True    False\n",
       "10          True     True     True\n",
       "11         False    False    False\n",
       "12          True     True     True\n",
       "13         False     True    False\n",
       "14          True     True     True\n",
       "15         False     True    False\n",
       "16          True    False     True\n",
       "17          True    False    False\n",
       "18          True     True     True\n",
       "19         False    False    False"
      ]
     },
     "execution_count": 40,
     "metadata": {},
     "output_type": "execute_result"
    }
   ],
   "source": [
    "info[]"
   ]
  },
  {
   "cell_type": "code",
   "execution_count": 42,
   "id": "6f586a04",
   "metadata": {},
   "outputs": [
    {
     "data": {
      "text/html": [
       "<div>\n",
       "<style scoped>\n",
       "    .dataframe tbody tr th:only-of-type {\n",
       "        vertical-align: middle;\n",
       "    }\n",
       "\n",
       "    .dataframe tbody tr th {\n",
       "        vertical-align: top;\n",
       "    }\n",
       "\n",
       "    .dataframe thead th {\n",
       "        text-align: right;\n",
       "    }\n",
       "</style>\n",
       "<table border=\"1\" class=\"dataframe\">\n",
       "  <thead>\n",
       "    <tr style=\"text-align: right;\">\n",
       "      <th></th>\n",
       "      <th>has_children</th>\n",
       "      <th>has_car</th>\n",
       "      <th>has_pet</th>\n",
       "    </tr>\n",
       "  </thead>\n",
       "  <tbody>\n",
       "    <tr>\n",
       "      <th>0</th>\n",
       "      <td>False</td>\n",
       "      <td>True</td>\n",
       "      <td>True</td>\n",
       "    </tr>\n",
       "  </tbody>\n",
       "</table>\n",
       "</div>"
      ],
      "text/plain": [
       "   has_children  has_car  has_pet\n",
       "0         False     True     True"
      ]
     },
     "execution_count": 42,
     "metadata": {},
     "output_type": "execute_result"
    }
   ],
   "source": [
    "obs_df"
   ]
  }
 ],
 "metadata": {
  "kernelspec": {
   "display_name": ".venv",
   "language": "python",
   "name": "python3"
  },
  "language_info": {
   "codemirror_mode": {
    "name": "ipython",
    "version": 3
   },
   "file_extension": ".py",
   "mimetype": "text/x-python",
   "name": "python",
   "nbconvert_exporter": "python",
   "pygments_lexer": "ipython3",
   "version": "3.12.8"
  }
 },
 "nbformat": 4,
 "nbformat_minor": 5
}
