{
 "cells": [
  {
   "cell_type": "markdown",
   "id": "8a20cbd5",
   "metadata": {},
   "source": [
    "# Assignment 6"
   ]
  },
  {
   "cell_type": "markdown",
   "id": "34c34819",
   "metadata": {},
   "source": [
    "### GOAL\n",
    "After Assignment 6, you should understand and be able to apply the following functions (in addition to the ones from previous assignments):\n",
    "- https://scikit-learn.org/stable/modules/generated/sklearn.metrics.mean_squared_error.html\n",
    "- https://scikit-learn.org/stable/modules/generated/sklearn.linear_model.LinearRegression.html\n",
    "- https://pandas.pydata.org/docs/reference/api/pandas.DataFrame.sample.html\n",
    "- https://scikit-learn.org/stable/modules/generated/sklearn.model_selection.KFold.html"
   ]
  },
  {
   "cell_type": "markdown",
   "id": "9e6a496a",
   "metadata": {},
   "source": [
    "## Exercises "
   ]
  },
  {
   "cell_type": "markdown",
   "id": "98abae23",
   "metadata": {},
   "source": [
    "***Ex1.*** Load the dataframe below and add a new column 'initialPrediction', which is estimated using the following linear equation: $predictedGrade=0.4x+8$\n",
    "\n",
    "\n",
    "```python\n",
    "data = pd.DataFrame([\n",
    "    {'hours_of_work':6, 'grade':16},\n",
    "    {'hours_of_work':7, 'grade':18},\n",
    "    {'hours_of_work':5., 'grade':14},\n",
    "    {'hours_of_work':9.1, 'grade':17},\n",
    "    {'hours_of_work':2., 'grade':10},\n",
    "    {'hours_of_work':8, 'grade':15},\n",
    "    {'hours_of_work':1.3, 'grade':9},\n",
    "    {'hours_of_work':2.9, 'grade':12},\n",
    "])\n",
    "m = 0.4\n",
    "i = 8\n",
    "```"
   ]
  },
  {
   "cell_type": "markdown",
   "id": "a75b5bc0",
   "metadata": {},
   "source": [
    "***Ex2.*** Calculate the mean squared error by hand and compare it with the one from scikit learn\n",
    "$$\n",
    "MSE = J(s, i) = \\frac{1}{n}\\Sigma_{i=1}^{n}{\\Big(y_i - (s x_i + i)\\Big)^2}\n",
    "$$"
   ]
  },
  {
   "cell_type": "markdown",
   "id": "70db9a9b",
   "metadata": {},
   "source": [
    "***Ex3.*** Fit a line using the linear regression from scikit learn and store the predicted value in a column named 'scikitPrediction'. What are the slope and the intercept? (check the [doc](https://scikit-learn.org/stable/modules/generated/sklearn.linear_model.LinearRegression.html))"
   ]
  },
  {
   "cell_type": "markdown",
   "id": "bd5e2c5c",
   "metadata": {},
   "source": [
    "***Ex4.*** Plot the observed values using a scatter plot and add two lines for the two linear regressions (ex1 and ex3)"
   ]
  },
  {
   "cell_type": "markdown",
   "id": "2e4138de",
   "metadata": {},
   "source": [
    "***Ex5.*** Load the data listings.csv and delete the column 'neighbourhood_cleansed'"
   ]
  },
  {
   "cell_type": "markdown",
   "id": "f85b1534",
   "metadata": {},
   "source": [
    "***Ex6.*** Use 20% of the observations and put them in a set called 'holdout' (using the function sample() from pandas). Please do not use them for training or choosing the best parameters (!); we will use the holdout set to estimate the performance. Set the random state to get the same sampling if you re-run the cell."
   ]
  },
  {
   "cell_type": "markdown",
   "id": "4de27aec",
   "metadata": {},
   "source": [
    "***Ex7*** Estimate the performance (using MSE) of a baseline that always predicts the mean (learn the mean using the training data, estimate the performance using the holdout set)"
   ]
  },
  {
   "cell_type": "markdown",
   "id": "ba94935f",
   "metadata": {},
   "source": [
    "***Ex8*** Implement a linear regression and estimate its performance."
   ]
  },
  {
   "cell_type": "markdown",
   "id": "ebb7c3ea",
   "metadata": {},
   "source": [
    "***Ex9*** Using a decision tree regressor, what would be the best max depth? Answer this question using kfold with k = 5 ***(do not use the holdout dataset)***."
   ]
  },
  {
   "cell_type": "markdown",
   "id": "78ca2e28",
   "metadata": {},
   "source": [
    "***Ex10*** Implement a decision tree regressor with the maximum depth found in the previous exercise and estimate its performance (using the holdout dataset)."
   ]
  },
  {
   "cell_type": "markdown",
   "id": "3cab7552",
   "metadata": {},
   "source": [
    "***Ex11.*** Comparing the three regressors, which one is the best one? \n",
    "Why didn't we use the hangout set to choose the best depth with the regression tree? "
   ]
  },
  {
   "cell_type": "markdown",
   "id": "6f2c5d93",
   "metadata": {},
   "source": [
    "***Extra Exercise.*** Implement Linear trees using the following library: https://github.com/cerlymarco/linear-tree "
   ]
  }
 ],
 "metadata": {
  "kernelspec": {
   "display_name": "Python 3 (ipykernel)",
   "language": "python",
   "name": "python3"
  },
  "language_info": {
   "codemirror_mode": {
    "name": "ipython",
    "version": 3
   },
   "file_extension": ".py",
   "mimetype": "text/x-python",
   "name": "python",
   "nbconvert_exporter": "python",
   "pygments_lexer": "ipython3",
   "version": "3.9.6"
  }
 },
 "nbformat": 4,
 "nbformat_minor": 5
}
