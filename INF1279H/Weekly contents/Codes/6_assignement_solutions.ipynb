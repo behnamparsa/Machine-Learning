{
 "cells": [
  {
   "cell_type": "markdown",
   "id": "8a20cbd5",
   "metadata": {},
   "source": [
    "# Assignment 6"
   ]
  },
  {
   "cell_type": "markdown",
   "id": "34c34819",
   "metadata": {},
   "source": [
    "### GOAL\n",
    "After Assignment 6, you should understand and be able to apply the following functions (in addition to the ones from previous assignments):\n",
    "- https://scikit-learn.org/stable/modules/generated/sklearn.metrics.mean_squared_error.html\n",
    "- https://scikit-learn.org/stable/modules/generated/sklearn.linear_model.LinearRegression.html\n",
    "- https://pandas.pydata.org/docs/reference/api/pandas.DataFrame.sample.html\n",
    "- https://scikit-learn.org/stable/modules/generated/sklearn.model_selection.KFold.html"
   ]
  },
  {
   "cell_type": "markdown",
   "id": "9e6a496a",
   "metadata": {},
   "source": [
    "## Exercises "
   ]
  },
  {
   "cell_type": "markdown",
   "id": "98abae23",
   "metadata": {},
   "source": [
    "***Ex1.*** Load the dataframe below and add a new column 'initialPrediction', which is estimated using the following linear equation: $predictedGrade=0.4x+8$\n",
    "\n",
    "\n",
    "```python\n",
    "data = pd.DataFrame([\n",
    "    {'hours_of_work':6, 'grade':16},\n",
    "    {'hours_of_work':7, 'grade':18},\n",
    "    {'hours_of_work':5., 'grade':14},\n",
    "    {'hours_of_work':9.1, 'grade':17},\n",
    "    {'hours_of_work':2., 'grade':10},\n",
    "    {'hours_of_work':8, 'grade':15},\n",
    "    {'hours_of_work':1.3, 'grade':9},\n",
    "    {'hours_of_work':2.9, 'grade':12},\n",
    "])\n",
    "m = 0.4\n",
    "i = 8\n",
    "```"
   ]
  },
  {
   "cell_type": "code",
   "execution_count": 1,
   "id": "22fac2ca",
   "metadata": {},
   "outputs": [],
   "source": [
    "import pandas as pd\n",
    "data = pd.DataFrame([\n",
    "    {'hours_of_work':6, 'grade':16},\n",
    "    {'hours_of_work':7, 'grade':18},\n",
    "    {'hours_of_work':5., 'grade':14},\n",
    "    {'hours_of_work':9.1, 'grade':17},\n",
    "    {'hours_of_work':2., 'grade':10},\n",
    "    {'hours_of_work':8, 'grade':15},\n",
    "    {'hours_of_work':1.3, 'grade':9},\n",
    "    {'hours_of_work':2.9, 'grade':12},\n",
    "])\n",
    "m = 0.4\n",
    "i = 8\n",
    "data['initialPrediction'] = (data['hours_of_work']*m)+i"
   ]
  },
  {
   "cell_type": "markdown",
   "id": "a75b5bc0",
   "metadata": {},
   "source": [
    "***Ex2.*** Calculate the mean squared error by hand and compare it with the one from scikit learn\n",
    "$$\n",
    "MSE = J(s, i) = \\frac{1}{n}\\Sigma_{i=1}^{n}{\\Big(y_i - (s x_i + i)\\Big)^2}\n",
    "$$"
   ]
  },
  {
   "cell_type": "code",
   "execution_count": 2,
   "id": "9d77a981",
   "metadata": {},
   "outputs": [
    {
     "data": {
      "text/plain": [
       "19.013199999999998"
      ]
     },
     "execution_count": 2,
     "metadata": {},
     "output_type": "execute_result"
    }
   ],
   "source": [
    "from sklearn.metrics import mean_squared_error\n",
    "mean_squared_error(data['grade'], data['initialPrediction']), (1/data.shape[0])*(data['grade'] - data['initialPrediction']).pow(2).sum()\n",
    "\n",
    "\n",
    "(1/data.shape[0])*(data['grade'] - data['initialPrediction']).pow(2).sum()"
   ]
  },
  {
   "cell_type": "markdown",
   "id": "70db9a9b",
   "metadata": {},
   "source": [
    "***Ex3.*** Fit a line using the linear regression from scikit learn and store the predicted value in a column named 'scikitPrediction'. What are the slope and the intercept? (check the [doc](https://scikit-learn.org/stable/modules/generated/sklearn.linear_model.LinearRegression.html))"
   ]
  },
  {
   "cell_type": "code",
   "execution_count": 3,
   "id": "b0f9db0b",
   "metadata": {
    "scrolled": true
   },
   "outputs": [
    {
     "name": "stdout",
     "output_type": "stream",
     "text": [
      "According to scikit, the best slope is [1.04270023] and the intercept is 8.492060053294049\n"
     ]
    }
   ],
   "source": [
    "from sklearn.linear_model import LinearRegression\n",
    "\n",
    "model = LinearRegression()\n",
    "model.fit(data[['hours_of_work']], data['grade'])\n",
    "pred = model.predict(data[['hours_of_work']])\n",
    "data['scikitPrediction'] =  pred\n",
    "print ('According to scikit, the best slope is {} and the intercept is {}'.format(model.coef_, model.intercept_))"
   ]
  },
  {
   "cell_type": "markdown",
   "id": "bd5e2c5c",
   "metadata": {},
   "source": [
    "***Ex4.*** Plot the observed values using a scatter plot and add two lines for the two linear regressions (ex1 and ex3)"
   ]
  },
  {
   "cell_type": "code",
   "execution_count": 5,
   "id": "84137754",
   "metadata": {
    "scrolled": false
   },
   "outputs": [
    {
     "data": {
      "image/png": "[encoded data removed]",
      "text/plain": [
       "<Figure size 432x288 with 1 Axes>"
      ]
     },
     "metadata": {
      "needs_background": "light"
     },
     "output_type": "display_data"
    }
   ],
   "source": [
    "import pandas as pd\n",
    "from matplotlib import pyplot as plt\n",
    "\n",
    "#fig, ax = plt.subplots()\n",
    "ax = data.plot.scatter(x='hours_of_work', y='grade')\n",
    "data.set_index('hours_of_work').sort_index()[['initialPrediction', 'scikitPrediction']].plot.line(ax=ax, linestyle='dashed')\n",
    "plt.savefig('filename.png', dpi=600)\n",
    "plt.show()"
   ]
  },
  {
   "cell_type": "markdown",
   "id": "2e4138de",
   "metadata": {},
   "source": [
    "***Ex5.*** Load the data listings.csv and delete the column 'property_type'"
   ]
  },
  {
   "cell_type": "code",
   "execution_count": null,
   "id": "afd52f39",
   "metadata": {},
   "outputs": [],
   "source": [
    "listings = pd.read_csv('listings.csv')\n",
    "listings = listings.drop('property_type', axis=1)"
   ]
  },
  {
   "cell_type": "markdown",
   "id": "f85b1534",
   "metadata": {},
   "source": [
    "***Ex6.*** Use 20% of the observations and put them in a set called 'holdout' (using the function sample() from pandas). Please do not use them for training or choosing the best parameters (!); we will use the holdout set to estimate the performance. Set the random state to get the same sampling if you re-run the cell."
   ]
  },
  {
   "cell_type": "code",
   "execution_count": null,
   "id": "31d47d12",
   "metadata": {},
   "outputs": [],
   "source": [
    "holdout = listings.sample(frac=0.2, random_state=1)\n",
    "training = listings.drop(holdout.index)\n",
    "listings"
   ]
  },
  {
   "cell_type": "markdown",
   "id": "4de27aec",
   "metadata": {},
   "source": [
    "***Ex7*** Estimate the performance (using MSE) of a baseline that always predicts the mean (learn the mean using the training data, estimate the performance using the holdout set)"
   ]
  },
  {
   "cell_type": "code",
   "execution_count": null,
   "id": "544630c4",
   "metadata": {},
   "outputs": [],
   "source": [
    "mean_squared_error(pd.Series(training['price'].mean()).repeat(holdout.shape[0]), holdout['price'])"
   ]
  },
  {
   "cell_type": "code",
   "execution_count": null,
   "id": "f80f4f55",
   "metadata": {},
   "outputs": [],
   "source": [
    "[training['price'].mean()]*holdout.shape[0]"
   ]
  },
  {
   "cell_type": "code",
   "execution_count": null,
   "id": "72baad6f",
   "metadata": {},
   "outputs": [],
   "source": [
    "pd.Series(training['price'].mean())"
   ]
  },
  {
   "cell_type": "markdown",
   "id": "ba94935f",
   "metadata": {},
   "source": [
    "***Ex8*** Implement a linear regression and estimate its performance."
   ]
  },
  {
   "cell_type": "code",
   "execution_count": null,
   "id": "b2f84bdc",
   "metadata": {},
   "outputs": [],
   "source": [
    "from sklearn.linear_model import LinearRegression\n",
    "\n",
    "model = LinearRegression()\n",
    "model.fit(training.drop('price',axis=1), training['price'])\n",
    "prediction = model.predict(holdout.drop('price',axis=1))\n",
    "mean_squared_error(model.predict(holdout.drop('price',axis=1)), holdout['price'])\n",
    "\n",
    "holdout.drop('price',axis=1))"
   ]
  },
  {
   "cell_type": "markdown",
   "id": "ebb7c3ea",
   "metadata": {},
   "source": [
    "***Ex9*** Using a decision tree regressor, what would be the best max depth? Answer this question using kfold with k = 5 ***(do not use the holdout dataset)***."
   ]
  },
  {
   "cell_type": "code",
   "execution_count": null,
   "id": "15a9abad",
   "metadata": {},
   "outputs": [],
   "source": [
    "from sklearn.tree import DecisionTreeRegressor\n",
    "from sklearn.model_selection import KFold\n",
    "\n",
    "kfold = KFold(n_splits=5, random_state=None, shuffle=False)\n",
    "results = [] \n",
    "for depth in range(1,20,1):\n",
    "    for training_i, testing_i in kfold.split(training):\n",
    "        model = DecisionTreeRegressor(max_depth=depth)\n",
    "        model.fit(training.iloc[training_i,:].drop('price',axis=1), training.iloc[training_i,:]['price'])\n",
    "        mse = mean_squared_error(model.predict(training.iloc[testing_i,:].drop('price',axis=1)), training.iloc[testing_i,:]['price'])\n",
    "        results.append({'depth':depth, 'mse':mse})\n",
    "pd.DataFrame(results).groupby('depth').mean()\n",
    "\n",
    "best_depth = pd.DataFrame(results).set_index('depth')['mse'].idxmin()"
   ]
  },
  {
   "cell_type": "markdown",
   "id": "78ca2e28",
   "metadata": {},
   "source": [
    "***Ex10*** Implement a decision tree regressor with the maximum depth found in the previous exercise and estimate its performance (using the holdout dataset)."
   ]
  },
  {
   "cell_type": "code",
   "execution_count": null,
   "id": "b5a6cf11",
   "metadata": {},
   "outputs": [],
   "source": [
    "model = DecisionTreeRegressor(max_depth=best_depth)\n",
    "model.fit(training.drop('price',axis=1), training['price'])\n",
    "mse = mean_squared_error(model.predict(holdout.drop('price',axis=1)), holdout['price'])\n",
    "print (mse)"
   ]
  },
  {
   "cell_type": "markdown",
   "id": "3cab7552",
   "metadata": {},
   "source": [
    "***Ex11.*** Comparing the three regressors, which one is the best one? \n",
    "Why didn't we use the hangout set to choose the best depth with the regression tree? "
   ]
  },
  {
   "cell_type": "markdown",
   "id": "426ed93c",
   "metadata": {},
   "source": [
    "Linear regression is the best approach since it reduces the MSE the most. \n",
    "\n",
    "We didn't use the holdout set to tune the hyperparameter (i.e., the depth of the regression tree) because that would be 'unfair' for the other classifier. Concretely, we would pick the depth that minimizes the MSE specifically for the holdout set. However, remember, the goal is not to minimize the MSE for the holdout dataset. Instead, the goal is to build a model that performs well for unseen observations (the holdout dataset mimicked these unseen observations). \n",
    "\n",
    "If you are still not convinced that we cannot use the holdout set to choose the right parameter, I encourage you to read: https://machinelearningmastery.com/difference-test-validation-datasets/"
   ]
  },
  {
   "cell_type": "code",
   "execution_count": null,
   "id": "66ae6fcb",
   "metadata": {},
   "outputs": [],
   "source": [
    "***Extra Exercise.*** Implement Linear trees using the following library: https://github.com/cerlymarco/linear-tree "
   ]
  }
 ],
 "metadata": {
  "kernelspec": {
   "display_name": "Python 3 (ipykernel)",
   "language": "python",
   "name": "python3"
  },
  "language_info": {
   "codemirror_mode": {
    "name": "ipython",
    "version": 3
   },
   "file_extension": ".py",
   "mimetype": "text/x-python",
   "name": "python",
   "nbconvert_exporter": "python",
   "pygments_lexer": "ipython3",
   "version": "3.9.6"
  }
 },
 "nbformat": 4,
 "nbformat_minor": 5
}
