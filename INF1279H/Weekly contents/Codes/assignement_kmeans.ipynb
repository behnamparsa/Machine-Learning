{
 "cells": [
  {
   "cell_type": "markdown",
   "id": "8a20cbd5",
   "metadata": {},
   "source": [
    "# Assignment K-means Clustering"
   ]
  },
  {
   "cell_type": "markdown",
   "id": "34c34819",
   "metadata": {},
   "source": [
    "### GOAL\n",
    "After this Assignment, you should understand and be able to apply the following functions (in addition to the ones from previous assignments):\n",
    "- https://scikit-learn.org/stable/modules/generated/sklearn.metrics.silhouette_score.html"
   ]
  },
  {
   "cell_type": "markdown",
   "id": "9e6a496a",
   "metadata": {},
   "source": [
    "## Exercises "
   ]
  },
  {
   "cell_type": "markdown",
   "id": "b8052819",
   "metadata": {},
   "source": [
    "***Ex1*** Load the data by running\n",
    "```python\n",
    "from sklearn.datasets import make_blobs\n",
    "import pandas as pd\n",
    "data = pd.DataFrame(make_blobs(n_samples=50, n_features=2, centers=5, random_state=10, cluster_std=0.5)[0])\n",
    "```"
   ]
  },
  {
   "cell_type": "markdown",
   "id": "148b69e6",
   "metadata": {},
   "source": [
    "***Ex2*** Plot the 'data' using a scatter plot (see below)\n",
    "![https://i.ibb.co/P1F8VKR/download-3.png](https://i.ibb.co/P1F8VKR/download-3.png)"
   ]
  },
  {
   "cell_type": "markdown",
   "id": "61600539",
   "metadata": {},
   "source": [
    "***Ex3*** Choose 5 initialization points (for kmeans) using a Forgy strategy. Plot the initialization points (using large red crosses) and plot them on a scatter chart along with the 'data' (see below)\n",
    "\n",
    "![https://i.ibb.co/FJF3b2v/download-1.png](https://i.ibb.co/FJF3b2v/download-1.png)"
   ]
  },
  {
   "cell_type": "markdown",
   "id": "5095b035",
   "metadata": {},
   "source": [
    "***Ex4*** Choose 5 initialization points (for kmeans) using the Kmeans++ strategy. Plot the initialization points (using large red crosses) and plot them on a scatter chart along with the 'data' (similar to Ex3). Hint: Sample has a parameter 'weight'. Hint2: Use [pairwise.euclidean_distances](https://scikit-learn.org/stable/modules/generated/sklearn.metrics.pairwise.euclidean_distances.html) to calculate the distance between all points at once.\n",
    "\n",
    "Kmeans++ strategy (from slides):\n",
    "1. Choose a point from the data (i.e., Forgy)\n",
    "2. For each data point x not chosen yet, compute D(x), the distance between x and the nearest center that has already been chosen.\n",
    "4. Choose one new data point at random with probability proportional to 𝐷(𝑥)^2\n",
    "5. Repeat Steps 2 and 3 until k centers have been chosen."
   ]
  },
  {
   "cell_type": "markdown",
   "id": "9e409fa0",
   "metadata": {},
   "source": [
    "***Ex5*** Load the data marketing_campaign.csv. More information about the dataset can be found here: https://www.kaggle.com/imakash3011/customer-personality-analysis. Hint: this dataset is not using commas but tabulations to separate the columns."
   ]
  },
  {
   "cell_type": "markdown",
   "id": "5ef7866a",
   "metadata": {},
   "source": [
    "***Ex6*** The shop owner would like to get clusters of similar customers using the following columns:\n",
    "```python\n",
    "columns_to_keep = ['Year_Birth', 'Income', 'MntWines', 'MntFruits', 'MntMeatProducts', 'MntFishProducts', 'MntSweetProducts', 'NumWebPurchases', 'NumCatalogPurchases', 'NumStorePurchases']\n",
    "```\n",
    "\n",
    "Here are the steps to follow:\n",
    "1. Scale all the values from 0 to 1 and remove lines with empty values\n",
    "2. Using Kmeans, try various values of k (from 15 to 40) and select the one that maximizes the silhouette mean\n",
    "3. Present some summary statistics for each cluster to the shop owner"
   ]
  },
  {
   "cell_type": "markdown",
   "id": "d425fb44",
   "metadata": {},
   "source": [
    "***Ex7*** Despite the summary statistics, extracting key insights about each group of customers is challenging. Can you envision how decision trees could help to explain the various clusters?"
   ]
  }
 ],
 "metadata": {
  "kernelspec": {
   "display_name": "Python 3 (ipykernel)",
   "language": "python",
   "name": "python3"
  },
  "language_info": {
   "codemirror_mode": {
    "name": "ipython",
    "version": 3
   },
   "file_extension": ".py",
   "mimetype": "text/x-python",
   "name": "python",
   "nbconvert_exporter": "python",
   "pygments_lexer": "ipython3",
   "version": "3.9.6"
  }
 },
 "nbformat": 4,
 "nbformat_minor": 5
}
