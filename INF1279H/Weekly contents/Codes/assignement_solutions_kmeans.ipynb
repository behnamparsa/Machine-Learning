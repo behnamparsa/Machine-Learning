{
 "cells": [
  {
   "cell_type": "markdown",
   "id": "8a20cbd5",
   "metadata": {},
   "source": [
    "# Assignment 10"
   ]
  },
  {
   "cell_type": "markdown",
   "id": "34c34819",
   "metadata": {},
   "source": [
    "### GOAL\n",
    "After Assignment 10, you should understand and be able to apply the following functions (in addition to the ones from previous assignments):\n",
    "- https://scikit-learn.org/stable/modules/generated/sklearn.metrics.silhouette_score.html"
   ]
  },
  {
   "cell_type": "markdown",
   "id": "9e6a496a",
   "metadata": {},
   "source": [
    "## Exercises "
   ]
  },
  {
   "cell_type": "markdown",
   "id": "b8052819",
   "metadata": {},
   "source": [
    "***Ex1*** Load the data by running\n",
    "```python\n",
    "from sklearn.datasets import make_blobs\n",
    "import pandas as pd\n",
    "data = pd.DataFrame(make_blobs(n_samples=50, n_features=2, centers=5, random_state=10, cluster_std=0.5)[0])\n",
    "```"
   ]
  },
  {
   "cell_type": "code",
   "execution_count": 69,
   "id": "77469e7c",
   "metadata": {},
   "outputs": [],
   "source": [
    "from sklearn.datasets import make_blobs\n",
    "import pandas as pd\n",
    "data = pd.DataFrame(make_blobs(n_samples=50, n_features=2, centers=5, random_state=10, cluster_std=0.5)[0])"
   ]
  },
  {
   "cell_type": "markdown",
   "id": "148b69e6",
   "metadata": {},
   "source": [
    "***Ex2*** Plot the 'data' using a scatter plot (see below)\n",
    "![https://i.ibb.co/P1F8VKR/download-3.png](https://i.ibb.co/P1F8VKR/download-3.png)"
   ]
  },
  {
   "cell_type": "code",
   "execution_count": 70,
   "id": "e23ea6eb",
   "metadata": {
    "scrolled": false
   },
   "outputs": [
    {
     "data": {
      "text/plain": [
       "<AxesSubplot:xlabel='0', ylabel='1'>"
      ]
     },
     "execution_count": 70,
     "metadata": {},
     "output_type": "execute_result"
    },
    {
     "data": {
      "image/png": "[encoded data removed]",
      "text/plain": [
       "<Figure size 432x288 with 1 Axes>"
      ]
     },
     "metadata": {
      "needs_background": "light"
     },
     "output_type": "display_data"
    }
   ],
   "source": [
    "data.plot.scatter(0,1)"
   ]
  },
  {
   "cell_type": "markdown",
   "id": "61600539",
   "metadata": {},
   "source": [
    "***Ex3*** Choose 5 initialization points (for kmeans) using a Forgy strategy. Plot the initialization points (using large red crosses) and plot them on a scatter chart along with the 'data' (see below)\n",
    "\n",
    "![https://i.ibb.co/FJF3b2v/download-1.png](https://i.ibb.co/FJF3b2v/download-1.png)"
   ]
  },
  {
   "cell_type": "code",
   "execution_count": 71,
   "id": "f2c40a75",
   "metadata": {},
   "outputs": [
    {
     "data": {
      "text/plain": [
       "<AxesSubplot:xlabel='0', ylabel='1'>"
      ]
     },
     "execution_count": 71,
     "metadata": {},
     "output_type": "execute_result"
    },
    {
     "data": {
      "image/png": "[encoded data removed]",
      "text/plain": [
       "<Figure size 432x288 with 1 Axes>"
      ]
     },
     "metadata": {
      "needs_background": "light"
     },
     "output_type": "display_data"
    }
   ],
   "source": [
    "initialization_points = data.sample(5)\n",
    "ax = data.plot.scatter(0,1)\n",
    "initialization_points.plot.scatter(0,1, ax=ax, marker='x', s=200, color='red')"
   ]
  },
  {
   "cell_type": "markdown",
   "id": "5095b035",
   "metadata": {},
   "source": [
    "***Ex4*** Choose 5 initialization points (for kmeans) using the Kmeans++ strategy. Plot the initialization points (using large red crosses) and plot them on a scatter chart along with the 'data' (similar to Ex3). Hint: Sample has a parameter 'weight'. Hint2: Use [pairwise.euclidean_distances](https://scikit-learn.org/stable/modules/generated/sklearn.metrics.pairwise.euclidean_distances.html) to calculate the distance between all points at once.\n",
    "\n",
    "Kmeans++ strategy (from slides):\n",
    "1. Choose a point from the data (i.e., Forgy)\n",
    "2. For each data point x not chosen yet, compute D(x), the distance between x and the nearest center that has already been chosen.\n",
    "4. Choose one new data point at random with probability proportional to 𝐷(𝑥)^2\n",
    "5. Repeat Steps 2 and 3 until k centers have been chosen."
   ]
  },
  {
   "cell_type": "code",
   "execution_count": 72,
   "id": "b7fbb28a",
   "metadata": {},
   "outputs": [
    {
     "data": {
      "text/plain": [
       "0     0.054221\n",
       "1     0.000351\n",
       "2     0.000153\n",
       "3     0.036166\n",
       "4     0.000049\n",
       "5     0.000000\n",
       "6     0.052118\n",
       "7     0.000000\n",
       "8     0.000493\n",
       "9     0.000050\n",
       "10    0.000103\n",
       "11    0.000022\n",
       "12    0.000016\n",
       "13    0.035522\n",
       "14    0.049249\n",
       "15    0.052788\n",
       "16    0.000453\n",
       "17    0.000040\n",
       "18    0.034537\n",
       "19    0.000067\n",
       "20    0.000044\n",
       "21    0.013737\n",
       "22    0.038560\n",
       "23    0.011321\n",
       "24    0.057151\n",
       "25    0.051469\n",
       "26    0.035479\n",
       "27    0.048432\n",
       "28    0.035990\n",
       "29    0.011524\n",
       "30    0.000081\n",
       "31    0.038643\n",
       "32    0.035326\n",
       "33    0.013665\n",
       "34    0.012754\n",
       "35    0.000107\n",
       "36    0.000060\n",
       "37    0.041641\n",
       "38    0.017467\n",
       "39    0.042311\n",
       "40    0.013267\n",
       "41    0.034790\n",
       "42    0.000417\n",
       "43    0.010732\n",
       "44    0.049888\n",
       "45    0.000042\n",
       "46    0.012962\n",
       "47    0.013475\n",
       "48    0.042206\n",
       "49    0.000060\n",
       "dtype: float64"
      ]
     },
     "execution_count": 72,
     "metadata": {},
     "output_type": "execute_result"
    }
   ],
   "source": [
    "CLOSEST_DIS = distanceMatrix.loc[data.sample(2).index.tolist(),:].min()\n",
    "\n",
    "prob = CLOSEST_DIS.pow(2)\n",
    "prob = prob / prob.sum()\n",
    "prob"
   ]
  },
  {
   "cell_type": "code",
   "execution_count": 73,
   "id": "7a2a421a",
   "metadata": {
    "scrolled": true
   },
   "outputs": [
    {
     "data": {
      "text/plain": [
       "<AxesSubplot:xlabel='0', ylabel='1'>"
      ]
     },
     "execution_count": 73,
     "metadata": {},
     "output_type": "execute_result"
    },
    {
     "data": {
      "image/png": "[encoded data removed]",
      "text/plain": [
       "<Figure size 432x288 with 1 Axes>"
      ]
     },
     "metadata": {
      "needs_background": "light"
     },
     "output_type": "display_data"
    }
   ],
   "source": [
    "from sklearn.metrics.pairwise import euclidean_distances\n",
    "\n",
    "# Calculate the distance between all the points at once\n",
    "distanceMatrix = pd.DataFrame(euclidean_distances(data))\n",
    "\n",
    "# Choose a point from the data (add the index in the initialization point)\n",
    "initialization_points_index = data.sample(1).index.tolist()\n",
    "\n",
    "while len(initialization_points_index) != 5:\n",
    "    distance_to_initialization_points = distanceMatrix.loc[initialization_points_index,:]\n",
    "    closest_distance = distance_to_initialization_points.min()\n",
    "    # Note: Points that are already in distance_to_initialization_points cannot \n",
    "    # be selected again because the distance is zero so will be the prob.\n",
    "    prob = closest_distance.pow(2)\n",
    "    prob = prob / prob.sum()\n",
    "    initialization_points_index.extend(data.sample(1, weights=prob).index.tolist())\n",
    "    \n",
    "initialization_points = data.loc[initialization_points_index,:]\n",
    "ax = data.plot.scatter(0,1)\n",
    "initialization_points.plot.scatter(0,1, ax=ax, marker='x', s=200, color='red')"
   ]
  },
  {
   "cell_type": "markdown",
   "id": "9e409fa0",
   "metadata": {},
   "source": [
    "***Ex5*** Load the data marketing_campaign.csv. More information about the dataset can be found here: https://www.kaggle.com/imakash3011/customer-personality-analysis. Hint: this dataset is not using commas but tabulations to separate the columns."
   ]
  },
  {
   "cell_type": "code",
   "execution_count": 74,
   "id": "084af93c",
   "metadata": {},
   "outputs": [],
   "source": [
    "df = pd.read_csv('marketing_campaign.csv', sep='\t')"
   ]
  },
  {
   "cell_type": "markdown",
   "id": "5ef7866a",
   "metadata": {},
   "source": [
    "***Ex6*** The shop owner would like to get clusters of similar customers using the following columns:\n",
    "```python\n",
    "columns_to_keep = ['Year_Birth', 'Income', 'MntWines', 'MntFruits', 'MntMeatProducts', 'MntFishProducts', 'MntSweetProducts', 'NumWebPurchases', 'NumCatalogPurchases', 'NumStorePurchases']\n",
    "```\n",
    "\n",
    "Here are the steps to follow:\n",
    "1. Scale all the values from 0 to 1 and remove lines with empty values\n",
    "2. Using Kmeans, try various values of k (from 15 to 40) and select the one that maximizes the silhouette mean\n",
    "3. Present some summary statistics for each cluster to the shop owner"
   ]
  },
  {
   "cell_type": "code",
   "execution_count": 75,
   "id": "c907f441",
   "metadata": {
    "scrolled": false
   },
   "outputs": [
    {
     "name": "stdout",
     "output_type": "stream",
     "text": [
      "(2240, 10)\n",
      "(2216, 10) after removing nan\n"
     ]
    },
    {
     "data": {
      "text/html": [
       "<div>\n",
       "<style scoped>\n",
       "    .dataframe tbody tr th:only-of-type {\n",
       "        vertical-align: middle;\n",
       "    }\n",
       "\n",
       "    .dataframe tbody tr th {\n",
       "        vertical-align: top;\n",
       "    }\n",
       "\n",
       "    .dataframe thead th {\n",
       "        text-align: right;\n",
       "    }\n",
       "</style>\n",
       "<table border=\"1\" class=\"dataframe\">\n",
       "  <thead>\n",
       "    <tr style=\"text-align: right;\">\n",
       "      <th></th>\n",
       "      <th>Year_Birth</th>\n",
       "      <th>Income</th>\n",
       "      <th>MntWines</th>\n",
       "      <th>MntFruits</th>\n",
       "      <th>MntMeatProducts</th>\n",
       "      <th>MntFishProducts</th>\n",
       "      <th>MntSweetProducts</th>\n",
       "      <th>NumWebPurchases</th>\n",
       "      <th>NumCatalogPurchases</th>\n",
       "      <th>NumStorePurchases</th>\n",
       "    </tr>\n",
       "  </thead>\n",
       "  <tbody>\n",
       "    <tr>\n",
       "      <th>0</th>\n",
       "      <td>1978.268781</td>\n",
       "      <td>32101.278798</td>\n",
       "      <td>22.140234</td>\n",
       "      <td>4.524207</td>\n",
       "      <td>17.784641</td>\n",
       "      <td>6.554257</td>\n",
       "      <td>4.545910</td>\n",
       "      <td>1.851419</td>\n",
       "      <td>0.404007</td>\n",
       "      <td>2.889816</td>\n",
       "    </tr>\n",
       "    <tr>\n",
       "      <th>1</th>\n",
       "      <td>1969.596774</td>\n",
       "      <td>77229.645161</td>\n",
       "      <td>1002.096774</td>\n",
       "      <td>29.709677</td>\n",
       "      <td>505.419355</td>\n",
       "      <td>77.838710</td>\n",
       "      <td>54.290323</td>\n",
       "      <td>5.419355</td>\n",
       "      <td>5.983871</td>\n",
       "      <td>10.500000</td>\n",
       "    </tr>\n",
       "    <tr>\n",
       "      <th>2</th>\n",
       "      <td>1973.674419</td>\n",
       "      <td>75083.883721</td>\n",
       "      <td>466.162791</td>\n",
       "      <td>78.720930</td>\n",
       "      <td>540.372093</td>\n",
       "      <td>202.232558</td>\n",
       "      <td>37.534884</td>\n",
       "      <td>4.441860</td>\n",
       "      <td>6.372093</td>\n",
       "      <td>6.139535</td>\n",
       "    </tr>\n",
       "    <tr>\n",
       "      <th>3</th>\n",
       "      <td>1963.739394</td>\n",
       "      <td>57816.800000</td>\n",
       "      <td>442.672727</td>\n",
       "      <td>9.351515</td>\n",
       "      <td>101.212121</td>\n",
       "      <td>13.430303</td>\n",
       "      <td>11.272727</td>\n",
       "      <td>6.957576</td>\n",
       "      <td>2.466667</td>\n",
       "      <td>7.769697</td>\n",
       "    </tr>\n",
       "    <tr>\n",
       "      <th>4</th>\n",
       "      <td>1967.377358</td>\n",
       "      <td>67007.971698</td>\n",
       "      <td>392.594340</td>\n",
       "      <td>56.981132</td>\n",
       "      <td>289.584906</td>\n",
       "      <td>46.735849</td>\n",
       "      <td>43.273585</td>\n",
       "      <td>5.622642</td>\n",
       "      <td>4.273585</td>\n",
       "      <td>11.349057</td>\n",
       "    </tr>\n",
       "    <tr>\n",
       "      <th>5</th>\n",
       "      <td>1971.959184</td>\n",
       "      <td>78735.755102</td>\n",
       "      <td>930.918367</td>\n",
       "      <td>119.408163</td>\n",
       "      <td>601.244898</td>\n",
       "      <td>63.959184</td>\n",
       "      <td>70.040816</td>\n",
       "      <td>5.734694</td>\n",
       "      <td>6.122449</td>\n",
       "      <td>8.959184</td>\n",
       "    </tr>\n",
       "    <tr>\n",
       "      <th>6</th>\n",
       "      <td>1963.557692</td>\n",
       "      <td>65134.509615</td>\n",
       "      <td>839.701923</td>\n",
       "      <td>17.884615</td>\n",
       "      <td>176.403846</td>\n",
       "      <td>19.423077</td>\n",
       "      <td>16.153846</td>\n",
       "      <td>5.903846</td>\n",
       "      <td>4.413462</td>\n",
       "      <td>10.971154</td>\n",
       "    </tr>\n",
       "    <tr>\n",
       "      <th>7</th>\n",
       "      <td>1966.353448</td>\n",
       "      <td>57663.862069</td>\n",
       "      <td>185.620690</td>\n",
       "      <td>37.215517</td>\n",
       "      <td>206.836207</td>\n",
       "      <td>54.603448</td>\n",
       "      <td>33.189655</td>\n",
       "      <td>4.543103</td>\n",
       "      <td>3.405172</td>\n",
       "      <td>6.310345</td>\n",
       "    </tr>\n",
       "    <tr>\n",
       "      <th>8</th>\n",
       "      <td>1971.063492</td>\n",
       "      <td>74163.349206</td>\n",
       "      <td>466.904762</td>\n",
       "      <td>40.158730</td>\n",
       "      <td>424.746032</td>\n",
       "      <td>57.825397</td>\n",
       "      <td>142.253968</td>\n",
       "      <td>6.253968</td>\n",
       "      <td>5.174603</td>\n",
       "      <td>8.111111</td>\n",
       "    </tr>\n",
       "    <tr>\n",
       "      <th>9</th>\n",
       "      <td>1966.468085</td>\n",
       "      <td>74701.617021</td>\n",
       "      <td>372.489362</td>\n",
       "      <td>151.893617</td>\n",
       "      <td>407.276596</td>\n",
       "      <td>65.787234</td>\n",
       "      <td>97.659574</td>\n",
       "      <td>5.127660</td>\n",
       "      <td>5.276596</td>\n",
       "      <td>7.510638</td>\n",
       "    </tr>\n",
       "    <tr>\n",
       "      <th>10</th>\n",
       "      <td>1969.892857</td>\n",
       "      <td>72893.071429</td>\n",
       "      <td>467.285714</td>\n",
       "      <td>113.750000</td>\n",
       "      <td>332.464286</td>\n",
       "      <td>168.785714</td>\n",
       "      <td>147.535714</td>\n",
       "      <td>5.750000</td>\n",
       "      <td>6.214286</td>\n",
       "      <td>5.892857</td>\n",
       "    </tr>\n",
       "    <tr>\n",
       "      <th>11</th>\n",
       "      <td>1958.650485</td>\n",
       "      <td>38062.889968</td>\n",
       "      <td>39.650485</td>\n",
       "      <td>3.423948</td>\n",
       "      <td>16.459547</td>\n",
       "      <td>4.582524</td>\n",
       "      <td>3.669903</td>\n",
       "      <td>1.779935</td>\n",
       "      <td>0.550162</td>\n",
       "      <td>3.074434</td>\n",
       "    </tr>\n",
       "    <tr>\n",
       "      <th>12</th>\n",
       "      <td>1963.766667</td>\n",
       "      <td>75578.733333</td>\n",
       "      <td>683.533333</td>\n",
       "      <td>44.733333</td>\n",
       "      <td>491.033333</td>\n",
       "      <td>202.300000</td>\n",
       "      <td>131.966667</td>\n",
       "      <td>5.466667</td>\n",
       "      <td>5.266667</td>\n",
       "      <td>9.366667</td>\n",
       "    </tr>\n",
       "    <tr>\n",
       "      <th>13</th>\n",
       "      <td>1968.142857</td>\n",
       "      <td>70187.000000</td>\n",
       "      <td>423.428571</td>\n",
       "      <td>36.857143</td>\n",
       "      <td>330.682540</td>\n",
       "      <td>134.761905</td>\n",
       "      <td>62.682540</td>\n",
       "      <td>5.603175</td>\n",
       "      <td>5.301587</td>\n",
       "      <td>10.984127</td>\n",
       "    </tr>\n",
       "    <tr>\n",
       "      <th>14</th>\n",
       "      <td>1967.793991</td>\n",
       "      <td>48172.549356</td>\n",
       "      <td>200.257511</td>\n",
       "      <td>7.626609</td>\n",
       "      <td>70.072961</td>\n",
       "      <td>11.351931</td>\n",
       "      <td>7.824034</td>\n",
       "      <td>5.313305</td>\n",
       "      <td>1.652361</td>\n",
       "      <td>4.944206</td>\n",
       "    </tr>\n",
       "    <tr>\n",
       "      <th>15</th>\n",
       "      <td>1977.750000</td>\n",
       "      <td>119409.750000</td>\n",
       "      <td>19.250000</td>\n",
       "      <td>4.750000</td>\n",
       "      <td>1663.500000</td>\n",
       "      <td>5.250000</td>\n",
       "      <td>1.750000</td>\n",
       "      <td>0.000000</td>\n",
       "      <td>26.500000</td>\n",
       "      <td>0.250000</td>\n",
       "    </tr>\n",
       "    <tr>\n",
       "      <th>16</th>\n",
       "      <td>1964.333333</td>\n",
       "      <td>73417.521739</td>\n",
       "      <td>646.753623</td>\n",
       "      <td>48.927536</td>\n",
       "      <td>399.666667</td>\n",
       "      <td>107.376812</td>\n",
       "      <td>51.260870</td>\n",
       "      <td>5.898551</td>\n",
       "      <td>6.043478</td>\n",
       "      <td>6.043478</td>\n",
       "    </tr>\n",
       "    <tr>\n",
       "      <th>17</th>\n",
       "      <td>1963.206897</td>\n",
       "      <td>72407.747126</td>\n",
       "      <td>952.057471</td>\n",
       "      <td>28.264368</td>\n",
       "      <td>288.241379</td>\n",
       "      <td>31.747126</td>\n",
       "      <td>22.862069</td>\n",
       "      <td>5.839080</td>\n",
       "      <td>5.724138</td>\n",
       "      <td>5.367816</td>\n",
       "    </tr>\n",
       "    <tr>\n",
       "      <th>18</th>\n",
       "      <td>1969.641026</td>\n",
       "      <td>72532.230769</td>\n",
       "      <td>458.512821</td>\n",
       "      <td>144.871795</td>\n",
       "      <td>362.743590</td>\n",
       "      <td>180.153846</td>\n",
       "      <td>69.307692</td>\n",
       "      <td>6.025641</td>\n",
       "      <td>5.179487</td>\n",
       "      <td>10.846154</td>\n",
       "    </tr>\n",
       "  </tbody>\n",
       "</table>\n",
       "</div>"
      ],
      "text/plain": [
       "     Year_Birth         Income     MntWines   MntFruits  MntMeatProducts  \\\n",
       "0   1978.268781   32101.278798    22.140234    4.524207        17.784641   \n",
       "1   1969.596774   77229.645161  1002.096774   29.709677       505.419355   \n",
       "2   1973.674419   75083.883721   466.162791   78.720930       540.372093   \n",
       "3   1963.739394   57816.800000   442.672727    9.351515       101.212121   \n",
       "4   1967.377358   67007.971698   392.594340   56.981132       289.584906   \n",
       "5   1971.959184   78735.755102   930.918367  119.408163       601.244898   \n",
       "6   1963.557692   65134.509615   839.701923   17.884615       176.403846   \n",
       "7   1966.353448   57663.862069   185.620690   37.215517       206.836207   \n",
       "8   1971.063492   74163.349206   466.904762   40.158730       424.746032   \n",
       "9   1966.468085   74701.617021   372.489362  151.893617       407.276596   \n",
       "10  1969.892857   72893.071429   467.285714  113.750000       332.464286   \n",
       "11  1958.650485   38062.889968    39.650485    3.423948        16.459547   \n",
       "12  1963.766667   75578.733333   683.533333   44.733333       491.033333   \n",
       "13  1968.142857   70187.000000   423.428571   36.857143       330.682540   \n",
       "14  1967.793991   48172.549356   200.257511    7.626609        70.072961   \n",
       "15  1977.750000  119409.750000    19.250000    4.750000      1663.500000   \n",
       "16  1964.333333   73417.521739   646.753623   48.927536       399.666667   \n",
       "17  1963.206897   72407.747126   952.057471   28.264368       288.241379   \n",
       "18  1969.641026   72532.230769   458.512821  144.871795       362.743590   \n",
       "\n",
       "    MntFishProducts  MntSweetProducts  NumWebPurchases  NumCatalogPurchases  \\\n",
       "0          6.554257          4.545910         1.851419             0.404007   \n",
       "1         77.838710         54.290323         5.419355             5.983871   \n",
       "2        202.232558         37.534884         4.441860             6.372093   \n",
       "3         13.430303         11.272727         6.957576             2.466667   \n",
       "4         46.735849         43.273585         5.622642             4.273585   \n",
       "5         63.959184         70.040816         5.734694             6.122449   \n",
       "6         19.423077         16.153846         5.903846             4.413462   \n",
       "7         54.603448         33.189655         4.543103             3.405172   \n",
       "8         57.825397        142.253968         6.253968             5.174603   \n",
       "9         65.787234         97.659574         5.127660             5.276596   \n",
       "10       168.785714        147.535714         5.750000             6.214286   \n",
       "11         4.582524          3.669903         1.779935             0.550162   \n",
       "12       202.300000        131.966667         5.466667             5.266667   \n",
       "13       134.761905         62.682540         5.603175             5.301587   \n",
       "14        11.351931          7.824034         5.313305             1.652361   \n",
       "15         5.250000          1.750000         0.000000            26.500000   \n",
       "16       107.376812         51.260870         5.898551             6.043478   \n",
       "17        31.747126         22.862069         5.839080             5.724138   \n",
       "18       180.153846         69.307692         6.025641             5.179487   \n",
       "\n",
       "    NumStorePurchases  \n",
       "0            2.889816  \n",
       "1           10.500000  \n",
       "2            6.139535  \n",
       "3            7.769697  \n",
       "4           11.349057  \n",
       "5            8.959184  \n",
       "6           10.971154  \n",
       "7            6.310345  \n",
       "8            8.111111  \n",
       "9            7.510638  \n",
       "10           5.892857  \n",
       "11           3.074434  \n",
       "12           9.366667  \n",
       "13          10.984127  \n",
       "14           4.944206  \n",
       "15           0.250000  \n",
       "16           6.043478  \n",
       "17           5.367816  \n",
       "18          10.846154  "
      ]
     },
     "execution_count": 75,
     "metadata": {},
     "output_type": "execute_result"
    }
   ],
   "source": [
    "from sklearn.preprocessing import MinMaxScaler\n",
    "from sklearn.cluster import KMeans\n",
    "from sklearn.metrics import silhouette_score\n",
    "\n",
    "columns_to_keep = ['Year_Birth', 'Income', 'MntWines', 'MntFruits', 'MntMeatProducts', 'MntFishProducts', 'MntSweetProducts', 'NumWebPurchases', 'NumCatalogPurchases', 'NumStorePurchases'] \n",
    "df = df.loc[:,columns_to_keep]\n",
    "\n",
    "# Remove missing values\n",
    "print (df.shape)\n",
    "df = df.loc[df.isnull().sum(axis=1)==0,:]\n",
    "print (df.shape, 'after removing nan')\n",
    "\n",
    "# Scale values from 0 to 1\n",
    "df_scaled =  (df - df.min()) / (df.max() - df.min())\n",
    "\n",
    "# Try various values of k\n",
    "sil_scores = []\n",
    "for k in range(10,20):\n",
    "    clusterer = KMeans(n_clusters=k)\n",
    "    clusterer.fit(df_scaled)\n",
    "    label = clusterer.predict(df_scaled)\n",
    "    sil_scores.append({'k':k, 'silhouette_score':silhouette_score(df_scaled, label), 'label':label})\n",
    "\n",
    "# Select best labels (based on silhouette score)\n",
    "sil_scores = pd.DataFrame(sil_scores)\n",
    "best_label = sil_scores.loc[sil_scores['silhouette_score'].idxmax(),'label']\n",
    "best_label\n",
    "\n",
    "# Present some summary statistics for each clusters\n",
    "df.groupby(best_label).mean()"
   ]
  },
  {
   "cell_type": "markdown",
   "id": "d425fb44",
   "metadata": {},
   "source": [
    "***Ex7*** Despite the summary statistics, extracting key insights about each group of customers is challenging. Can you envision how decision trees could help to explain the various clusters?"
   ]
  },
  {
   "cell_type": "code",
   "execution_count": 76,
   "id": "9e830f61",
   "metadata": {},
   "outputs": [],
   "source": [
    "#This is an open question"
   ]
  }
 ],
 "metadata": {
  "kernelspec": {
   "display_name": "Python 3 (ipykernel)",
   "language": "python",
   "name": "python3"
  },
  "language_info": {
   "codemirror_mode": {
    "name": "ipython",
    "version": 3
   },
   "file_extension": ".py",
   "mimetype": "text/x-python",
   "name": "python",
   "nbconvert_exporter": "python",
   "pygments_lexer": "ipython3",
   "version": "3.9.6"
  }
 },
 "nbformat": 4,
 "nbformat_minor": 5
}
