{
 "cells": [
  {
   "cell_type": "markdown",
   "metadata": {},
   "source": [
    "Step 1: Upload the Data and perform the initial inspection\n",
    "- Target Value: 'TOT_PAID' and date column: 'ACC_MONTH'\n",
    "- Feature Columns: 'EST_COST', 'NBR_CASE' = 'NBR_KEY_CASE' + 'NBR_OTHER'\n",
    "due to the mathematical equation between case related fields only one of them along with the 'EST_COST' has the potential to be a valid regressor"
   ]
  },
  {
   "cell_type": "code",
   "execution_count": null,
   "metadata": {},
   "outputs": [],
   "source": []
  },
  {
   "cell_type": "markdown",
   "metadata": {},
   "source": [
    "Step 2: Correlation and Lag analysis, using statistical test: Garnger Casualty\n",
    "\n",
    "Calculating the correlation between the target value and potential regressors, running a lag correlation analysis and testing the best lag’s significance by Granger Casualty Test and finalizing the potential regressors and their lag in the model "
   ]
  },
  {
   "cell_type": "code",
   "execution_count": null,
   "metadata": {},
   "outputs": [],
   "source": []
  },
  {
   "cell_type": "markdown",
   "metadata": {},
   "source": [
    "Step 3: Model Fitting and measuring model's accuracy by RMSE, MAE, MAPE\n",
    "\n",
    "Testing various time series methods and measuring the effect of seasonality and regressors in the model. Selecting the best method with the most useful regressors based on their accuracy measured by RMSE, MAE and MAPE. "
   ]
  },
  {
   "cell_type": "code",
   "execution_count": null,
   "metadata": {},
   "outputs": [],
   "source": []
  },
  {
   "cell_type": "markdown",
   "metadata": {},
   "source": [
    "Step 4: Forecasting 18 months to the future\n",
    "\n",
    "Forecasting regressors for 18 months future to be used for forecasting 18 months future total expenditures "
   ]
  },
  {
   "cell_type": "code",
   "execution_count": null,
   "metadata": {},
   "outputs": [],
   "source": []
  },
  {
   "cell_type": "markdown",
   "metadata": {},
   "source": [
    "Step 5: Analysing the outupt - Plotting the trends and forecasts"
   ]
  },
  {
   "cell_type": "code",
   "execution_count": null,
   "metadata": {},
   "outputs": [],
   "source": []
  },
  {
   "cell_type": "code",
   "execution_count": null,
   "metadata": {},
   "outputs": [],
   "source": []
  },
  {
   "cell_type": "code",
   "execution_count": null,
   "metadata": {},
   "outputs": [],
   "source": []
  },
  {
   "cell_type": "code",
   "execution_count": null,
   "metadata": {},
   "outputs": [],
   "source": []
  },
  {
   "cell_type": "code",
   "execution_count": null,
   "metadata": {},
   "outputs": [],
   "source": []
  },
  {
   "cell_type": "code",
   "execution_count": null,
   "metadata": {},
   "outputs": [],
   "source": []
  }
 ],
 "metadata": {
  "language_info": {
   "name": "python"
  }
 },
 "nbformat": 4,
 "nbformat_minor": 2
}
