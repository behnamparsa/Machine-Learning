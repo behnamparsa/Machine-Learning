{
 "cells": [
  {
   "cell_type": "code",
   "execution_count": 1,
   "metadata": {},
   "outputs": [],
   "source": [
    "import pandas as pd\n",
    "import numpy as np\n",
    "import lightgbm as lgb\n",
    "import matplotlib.pyplot as plt\n",
    "import seaborn as sns\n",
    "from sklearn.model_selection import train_test_split, GridSearchCV\n",
    "from sklearn.metrics import classification_report, accuracy_score\n",
    "from sklearn.preprocessing import LabelEncoder\n",
    "from sklearn.impute import SimpleImputer\n",
    "from sklearn.feature_extraction.text import TfidfVectorizer\n",
    "from scipy.sparse import hstack\n"
   ]
  },
  {
   "cell_type": "code",
   "execution_count": 2,
   "metadata": {},
   "outputs": [],
   "source": [
    "# Load datasets\n",
    "train_df = pd.read_csv(\"C:/GitHub/Machine-Learning/INF1279H/train_data.csv\")\n",
    "test_df = pd.read_csv(\"C:/GitHub/Machine-Learning/INF1279H/test_data.csv\")"
   ]
  },
  {
   "cell_type": "code",
   "execution_count": 3,
   "metadata": {},
   "outputs": [],
   "source": [
    "# Drop unnecessary columns (Clothing ID - not useful for prediction)\n",
    "train_df.drop(columns=[\"Clothing ID\"], inplace=True)\n",
    "test_df.drop(columns=[\"Clothing ID\"], inplace=True)"
   ]
  },
  {
   "cell_type": "code",
   "execution_count": 4,
   "metadata": {},
   "outputs": [],
   "source": [
    "# Handle missing values\n",
    "imputer = SimpleImputer(strategy='most_frequent')\n",
    "train_df[\"Title\"] = train_df[\"Title\"].fillna(\"\")\n",
    "train_df[\"Review Text\"] = train_df[\"Review Text\"].fillna(\"\")\n",
    "test_df[\"Title\"]=test_df[\"Title\"].fillna(\"\")\n",
    "test_df[\"Review Text\"]= test_df[\"Review Text\"].fillna(\"\")"
   ]
  },
  {
   "cell_type": "code",
   "execution_count": 5,
   "metadata": {},
   "outputs": [],
   "source": [
    "# Encode categorical features\n",
    "label_encoders = {}\n",
    "categorical_cols = [\"Division Name\", \"Department Name\", \"Class Name\"]\n",
    "\n",
    "for col in categorical_cols:\n",
    "    le = LabelEncoder()\n",
    "    train_df[col] = le.fit_transform(train_df[col].astype(str))\n",
    "    \n",
    "    # Handle unseen categories in test set\n",
    "    test_df[col] = test_df[col].astype(str).map(lambda x: le.transform([x])[0] if x in le.classes_ else -1)\n",
    "    \n",
    "    label_encoders[col] = le"
   ]
  },
  {
   "cell_type": "code",
   "execution_count": 6,
   "metadata": {},
   "outputs": [],
   "source": [
    "# Convert text data into TF-IDF features\n",
    "tfidf_vectorizer = TfidfVectorizer(max_features=5000, stop_words='english')\n",
    "train_tfidf = tfidf_vectorizer.fit_transform(train_df[\"Review Text\"] + \" \" + train_df[\"Title\"])\n",
    "test_tfidf = tfidf_vectorizer.transform(test_df[\"Review Text\"] + \" \" + test_df[\"Title\"])\n"
   ]
  },
  {
   "cell_type": "code",
   "execution_count": 7,
   "metadata": {},
   "outputs": [],
   "source": [
    "\n",
    "# Define features and target\n",
    "X_train = hstack((train_tfidf, train_df.drop(columns=[\"Review Text\", \"Title\", \"Rating\", \"Recommended IND\"])))\n",
    "y_train = train_df[\"Rating\"]\n",
    "X_test = hstack((test_tfidf, test_df.drop(columns=[\"Review Text\", \"Title\", \"Rating\", \"Recommended IND\"])))\n",
    "y_test = test_df[\"Rating\"]"
   ]
  },
  {
   "cell_type": "code",
   "execution_count": 16,
   "metadata": {},
   "outputs": [],
   "source": [
    "\n",
    "# Train LightGBM Model with Hyperparameter Tuning\n",
    "param_grid = {\n",
    "    'num_leaves': [31, 50, 100],\n",
    "    'learning_rate': [0.01, 0.05, 0.1],\n",
    "    'n_estimators': [100, 200, 500],\n",
    "    'max_depth': [-1, 10, 20]\n",
    "}"
   ]
  },
  {
   "cell_type": "code",
   "execution_count": 9,
   "metadata": {},
   "outputs": [
    {
     "name": "stdout",
     "output_type": "stream",
     "text": [
      "[LightGBM] [Info] Auto-choosing row-wise multi-threading, the overhead of testing was 0.094555 seconds.\n",
      "You can set `force_row_wise=true` to remove the overhead.\n",
      "And if memory is not enough, you can set `force_col_wise=true`.\n",
      "[LightGBM] [Info] Total Bins 103705\n",
      "[LightGBM] [Info] Number of data points in the train set: 18788, number of used features: 2034\n",
      "[LightGBM] [Info] Start training from score -1.609438\n",
      "[LightGBM] [Info] Start training from score -1.609438\n",
      "[LightGBM] [Info] Start training from score -1.609438\n",
      "[LightGBM] [Info] Start training from score -1.609438\n",
      "[LightGBM] [Info] Start training from score -1.609438\n"
     ]
    }
   ],
   "source": [
    "lgb_clf = lgb.LGBMClassifier(random_state=42, class_weight='balanced')\n",
    "grid_search = GridSearchCV(lgb_clf, param_grid, cv=3, scoring='accuracy', n_jobs=-1)\n",
    "grid_search.fit(X_train, y_train)\n",
    "\n",
    "# Best model\n",
    "best_lgb = grid_search.best_estimator_"
   ]
  },
  {
   "cell_type": "code",
   "execution_count": 17,
   "metadata": {},
   "outputs": [
    {
     "name": "stdout",
     "output_type": "stream",
     "text": [
      "[LightGBM] [Info] Auto-choosing col-wise multi-threading, the overhead of testing was 0.092121 seconds.\n",
      "You can set `force_col_wise=true` to remove the overhead.\n",
      "[LightGBM] [Info] Total Bins 103705\n",
      "[LightGBM] [Info] Number of data points in the train set: 18788, number of used features: 2034\n",
      "[LightGBM] [Info] Start training from score -1.609438\n",
      "[LightGBM] [Info] Start training from score -1.609438\n",
      "[LightGBM] [Info] Start training from score -1.609438\n",
      "[LightGBM] [Info] Start training from score -1.609438\n",
      "[LightGBM] [Info] Start training from score -1.609438\n"
     ]
    }
   ],
   "source": [
    "#import warnings\n",
    "#warnings.filterwarnings(\"ignore\", category=UserWarning, module=\"lightgbm\")\n",
    "\n",
    "# Convert to DataFrame with feature names\n",
    "feature_names = [f\"feature_{i}\" for i in range(X_train.shape[1])]\n",
    "X_train_df = pd.DataFrame(X_train.toarray(), columns=feature_names)\n",
    "X_test_df = pd.DataFrame(X_test.toarray(), columns=feature_names)\n",
    "\n",
    "# Train LightGBM Model\n",
    "#best_lgb.fit(X_train_df, y_train, feature_name=feature_names)\n",
    "\n",
    "# Train LightGBM Model\n",
    "#best_lgb.fit(X_train_csr, y_train)\n",
    "\n",
    "###################################################\n",
    "lgb_clf = lgb.LGBMClassifier(random_state=42, class_weight='balanced')\n",
    "#grid_search = GridSearchCV(lgb_clf, param_grid, cv=3, scoring='accuracy', n_jobs=-1)\n",
    "grid_search.fit(X_train_df, y_train)\n",
    "\n",
    "# Best model\n",
    "best_lgb = grid_search.best_estimator_\n"
   ]
  },
  {
   "cell_type": "code",
   "execution_count": 18,
   "metadata": {},
   "outputs": [
    {
     "name": "stdout",
     "output_type": "stream",
     "text": [
      "Classification Report:\n",
      "              precision    recall  f1-score   support\n",
      "\n",
      "           1       0.33      0.20      0.25       153\n",
      "           2       0.32      0.22      0.26       317\n",
      "           3       0.39      0.34      0.36       620\n",
      "           4       0.42      0.39      0.40      1017\n",
      "           5       0.77      0.85      0.81      2591\n",
      "\n",
      "    accuracy                           0.62      4698\n",
      "   macro avg       0.44      0.40      0.42      4698\n",
      "weighted avg       0.60      0.62      0.61      4698\n",
      "\n",
      "Final Accuracy: 0.6222\n"
     ]
    }
   ],
   "source": [
    "# Predictions\n",
    "#y_pred = best_lgb.predict(X_test)\n",
    "y_pred = best_lgb.predict(X_test_df)\n",
    "\n",
    "\n",
    "# Evaluate model\n",
    "print(\"Classification Report:\")\n",
    "print(classification_report(y_test, y_pred))\n",
    "print(f\"Final Accuracy: {accuracy_score(y_test, y_pred):.4f}\")\n"
   ]
  }
 ],
 "metadata": {
  "kernelspec": {
   "display_name": ".venv",
   "language": "python",
   "name": "python3"
  },
  "language_info": {
   "codemirror_mode": {
    "name": "ipython",
    "version": 3
   },
   "file_extension": ".py",
   "mimetype": "text/x-python",
   "name": "python",
   "nbconvert_exporter": "python",
   "pygments_lexer": "ipython3",
   "version": "3.10.10"
  }
 },
 "nbformat": 4,
 "nbformat_minor": 2
}
