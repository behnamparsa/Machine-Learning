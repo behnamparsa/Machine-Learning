{
 "cells": [
  {
   "cell_type": "code",
   "execution_count": 1,
   "metadata": {},
   "outputs": [],
   "source": [
    "import pandas as pd\n",
    "import numpy as np\n",
    "import matplotlib.pyplot as plt\n",
    "import seaborn as sns\n",
    "from sklearn.model_selection import train_test_split, GridSearchCV\n",
    "from sklearn.ensemble import RandomForestClassifier\n",
    "from sklearn.metrics import classification_report, accuracy_score\n",
    "from sklearn.preprocessing import LabelEncoder\n",
    "from sklearn.impute import SimpleImputer\n",
    "from sklearn.feature_extraction.text import TfidfVectorizer\n",
    "from scipy.sparse import hstack"
   ]
  },
  {
   "cell_type": "code",
   "execution_count": 2,
   "metadata": {},
   "outputs": [],
   "source": [
    "# Load datasets\n",
    "train_df = pd.read_csv(\"C:/GitHub/Machine-Learning/INF1279H/train_data.csv\")\n",
    "test_df = pd.read_csv(\"C:/GitHub/Machine-Learning/INF1279H/test_data.csv\")"
   ]
  },
  {
   "cell_type": "code",
   "execution_count": 3,
   "metadata": {},
   "outputs": [],
   "source": [
    "# Drop unnecessary columns (Clothing ID - not useful for prediction)\n",
    "train_df.drop(columns=[\"Clothing ID\"], inplace=True)\n",
    "test_df.drop(columns=[\"Clothing ID\"], inplace=True)"
   ]
  },
  {
   "cell_type": "code",
   "execution_count": 4,
   "metadata": {},
   "outputs": [],
   "source": [
    "# Handle missing values\n",
    "imputer = SimpleImputer(strategy='most_frequent')\n",
    "train_df[\"Title\"] = train_df[\"Title\"].fillna(\"\")\n",
    "train_df[\"Review Text\"] = train_df[\"Review Text\"].fillna(\"\")\n",
    "test_df[\"Title\"]=test_df[\"Title\"].fillna(\"\")\n",
    "test_df[\"Review Text\"]= test_df[\"Review Text\"].fillna(\"\")"
   ]
  },
  {
   "cell_type": "code",
   "execution_count": 5,
   "metadata": {},
   "outputs": [],
   "source": [
    "\n",
    "# Encode categorical features\n",
    "label_encoders = {}\n",
    "categorical_cols = [\"Division Name\", \"Department Name\", \"Class Name\"]\n",
    "\n",
    "for col in categorical_cols:\n",
    "    le = LabelEncoder()\n",
    "    train_df[col] = le.fit_transform(train_df[col].astype(str))\n",
    "    \n",
    "    # Handle unseen categories in test set\n",
    "    test_df[col] = test_df[col].astype(str).map(lambda x: le.transform([x])[0] if x in le.classes_ else -1)\n",
    "    \n",
    "    label_encoders[col] = le"
   ]
  },
  {
   "cell_type": "code",
   "execution_count": 6,
   "metadata": {},
   "outputs": [],
   "source": [
    "# Convert text data into TF-IDF features\n",
    "tfidf_vectorizer = TfidfVectorizer(max_features=5000, stop_words='english')\n",
    "train_tfidf = tfidf_vectorizer.fit_transform(train_df[\"Review Text\"] + \" \" + train_df[\"Title\"])\n",
    "test_tfidf = tfidf_vectorizer.transform(test_df[\"Review Text\"] + \" \" + test_df[\"Title\"])\n"
   ]
  },
  {
   "cell_type": "code",
   "execution_count": 7,
   "metadata": {},
   "outputs": [],
   "source": [
    "\n",
    "# Define features and target\n",
    "X_train = hstack((train_tfidf, train_df.drop(columns=[\"Review Text\", \"Title\", \"Rating\", \"Recommended IND\"])))\n",
    "y_train = train_df[\"Rating\"]\n",
    "X_test = hstack((test_tfidf, test_df.drop(columns=[\"Review Text\", \"Title\", \"Rating\", \"Recommended IND\"])))\n",
    "y_test = test_df[\"Rating\"]\n"
   ]
  },
  {
   "cell_type": "code",
   "execution_count": 8,
   "metadata": {},
   "outputs": [],
   "source": [
    "# Train Random Forest Model with Hyperparameter Tuning\n",
    "param_grid = {\n",
    "    'n_estimators': [100, 200],\n",
    "    'max_depth': [10, 20, None],\n",
    "    'min_samples_split': [2, 5, 10]\n",
    "}"
   ]
  },
  {
   "cell_type": "code",
   "execution_count": 9,
   "metadata": {},
   "outputs": [],
   "source": [
    "rf = RandomForestClassifier(random_state=42, class_weight='balanced')\n",
    "grid_search = GridSearchCV(rf, param_grid, cv=3, scoring='accuracy', n_jobs=-1)\n",
    "grid_search.fit(X_train, y_train)\n",
    "\n",
    "# Best model\n",
    "best_rf = grid_search.best_estimator_"
   ]
  },
  {
   "cell_type": "code",
   "execution_count": 11,
   "metadata": {},
   "outputs": [
    {
     "name": "stdout",
     "output_type": "stream",
     "text": [
      "Classification Report:\n",
      "              precision    recall  f1-score   support\n",
      "\n",
      "           1       0.42      0.22      0.28       153\n",
      "           2       0.36      0.12      0.18       317\n",
      "           3       0.44      0.28      0.34       620\n",
      "           4       0.41      0.16      0.23      1017\n",
      "           5       0.66      0.95      0.78      2591\n",
      "\n",
      "    accuracy                           0.61      4698\n",
      "   macro avg       0.46      0.34      0.36      4698\n",
      "weighted avg       0.55      0.61      0.54      4698\n",
      "\n",
      "Final Accuracy: 0.61\n"
     ]
    }
   ],
   "source": [
    "# Predictions\n",
    "y_pred = best_rf.predict(X_test)\n",
    "\n",
    "# Evaluate model\n",
    "print(\"Classification Report:\")\n",
    "print(classification_report(y_test, y_pred))\n",
    "print(f\"Final Accuracy: {accuracy_score(y_test, y_pred):.2f}\")"
   ]
  },
  {
   "cell_type": "code",
   "execution_count": null,
   "metadata": {},
   "outputs": [],
   "source": []
  }
 ],
 "metadata": {
  "kernelspec": {
   "display_name": ".venv",
   "language": "python",
   "name": "python3"
  },
  "language_info": {
   "codemirror_mode": {
    "name": "ipython",
    "version": 3
   },
   "file_extension": ".py",
   "mimetype": "text/x-python",
   "name": "python",
   "nbconvert_exporter": "python",
   "pygments_lexer": "ipython3",
   "version": "3.10.10"
  }
 },
 "nbformat": 4,
 "nbformat_minor": 2
}
